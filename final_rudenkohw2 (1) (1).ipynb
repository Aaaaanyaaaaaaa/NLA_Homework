{
 "cells": [
  {
   "cell_type": "markdown",
   "metadata": {},
   "source": [
    "# Problem set 2 (145 pts)"
   ]
  },
  {
   "cell_type": "markdown",
   "metadata": {},
   "source": [
    "## Problem 1 (LU decomposition) 25 pts"
   ]
  },
  {
   "cell_type": "markdown",
   "metadata": {},
   "source": [
    "### 1. LU for band matrices (7 pts)\n",
    "\n",
    "The complexity to find an LU decomposition of a dense $n\\times n$ matrix is $\\mathcal{O}(n^3)$.\n",
    "Significant reduction in complexity can be achieved if the matrix has a certain structure, e.g. it is sparse. \n",
    "In the following task we consider an important example of $LU$ for a special type of sparse matrices –– band matrices with the bandwidth $m$ equal to 3 or 5 which called tridiagonal and pentadiagonal respectively.\n",
    "\n",
    "- (5 pts) Write a function ```band_lu(diag_broadcast, n)``` which computes LU decomposition for tridiagonal or pentadiagonal matrix with given diagonal values. \n",
    "For example, input parametres ```(diag_broadcast = [4,-2,1], n = 4)``` mean that we need to find LU decomposition for the triangular matrix of the form:\n",
    "\n",
    "$$A = \\begin{pmatrix}\n",
    "-2 & 1 & 0 & 0\\\\\n",
    "4 & -2 & 1 & 0 \\\\\n",
    "0 & 4 & -2 & 1 \\\\\n",
    "0 & 0 & 4 & -2 \\\\\n",
    "\\end{pmatrix}.$$\n",
    "\n",
    "As an output it is considered to make ```L``` and ```U``` - 2D arrays representing diagonals in factors $L$ (```L[0]``` keeps first lower diagonal, ```L[1]``` keeps second lower, ...), and $U$ (```U[:,0]``` keeps main diagonal, ```U[:,1]``` keeps first upper, ...).\n",
    "- (2 pts) Compare execution time of the band LU decomposition using standard function from ```scipy```, i.e. which takes the whole matrix and does not know about its special structure, and band decomposition of yours implementation. Comment on the results."
   ]
  },
  {
   "cell_type": "code",
   "execution_count": 51,
   "metadata": {},
   "outputs": [],
   "source": [
    "from scipy.sparse import diags # can be used with broadcasting of scalars if desired dimensions are large\n",
    "import scipy.sparse\n",
    "import numpy as np\n",
    "\n",
    "# INPUT : diag_broadcast - list of diagonals value to broadcast,length equal to 3 or 5; n - integer, band matrix shape.\n",
    "# OUTPUT : L - 2D np.ndarray, L.shape[0] depends on bandwidth, L.shape[1] = n-1, do not store main diagonal, where all ones;                  add zeros to the right side of rows to handle with changing length of diagonals.\n",
    "#          U - 2D np.ndarray, U.shape[0] = n, U.shape[1] depends on bandwidth;\n",
    "#              add zeros to the bottom of columns to handle with changing length of diagonals.\n",
    "def band_lu(diag_broadcast, n):\n",
    "    np.seterr(invalid='raise')\n",
    "    \n",
    "    diag_diags =[i for i in range(-len(diag_broadcast)//2+1, len(diag_broadcast)//2+1)]\n",
    "    b = len(diag_broadcast)//2+1\n",
    "    a = diags(diag_broadcast, diag_diags, shape= (n,n), format =\"lil\")\n",
    "    # a = np.random.rand(n, n)\n",
    "    l = scipy.sparse.lil_matrix((n,n))\n",
    "    u = scipy.sparse.lil_matrix((n,n))\n",
    "    u[0, :b] = a[0, :b]\n",
    "    l[:b, 0] = (a[:b, 0]/u[0, 0])\n",
    "    for i in range(1,n):\n",
    "        u[i, i:i+b] = a[i, i:i+b] - l[i,max(i-b, 0):i] @ u[max(i-b, 0):i, i:i+b]\n",
    "        l[i:i+b, i] = (a[i:i+b, i] - (l[i:i+b, max(i-b, 0):i] @ u[max(i-b, 0):i, i]))/u[i,i]\n",
    "    \n",
    "    l = [l.diagonal(-i) for i in range(1, b)]\n",
    "    u = [u.diagonal(i) for i in range(b)]\n",
    "    return  l, u"
   ]
  },
  {
   "cell_type": "code",
   "execution_count": 53,
   "metadata": {},
   "outputs": [
    {
     "name": "stdout",
     "output_type": "stream",
     "text": [
      "6.33 s ± 58.6 ms per loop (mean ± std. dev. of 7 runs, 1 loop each)\n"
     ]
    }
   ],
   "source": [
    "%%timeit\n",
    "l, Up = band_lu(diag_broadcast = x, n = 5000)\n",
    "# print(l)\n",
    "# print(u\n"
   ]
  },
  {
   "cell_type": "code",
   "execution_count": 26,
   "metadata": {},
   "outputs": [],
   "source": [
    "x =  np.random.rand(5)"
   ]
  },
  {
   "cell_type": "code",
   "execution_count": 45,
   "metadata": {},
   "outputs": [],
   "source": [
    "from scipy.sparse import diags # can be used with broadcasting of scalars if desired dimensions are large\n",
    "import scipy.sparse\n",
    "import numpy as np\n",
    "# INPUT : diag_broadcast - list of diagonals value to broadcast,length equal to 3 or 5; n - integer, band matrix shape.\n",
    "# OUTPUT : L - 2D np.ndarray, L.shape[0] depends on bandwidth, L.shape[1] = n-1, do not store main diagonal, where all ones;                  add zeros to the right side of rows to handle with changing length of diagonals.\n",
    "#          U - 2D np.ndarray, U.shape[0] = n, U.shape[1] depends on bandwidth;\n",
    "#              add zeros to the bottom of columns to handle with changing length of diagonals.\n",
    "def band_lu(diag_broadcast, n):\n",
    "    np.seterr(invalid='raise')\n",
    "    if len(diag_broadcast) == 3:\n",
    "        diag_u_up = [diag_broadcast[2] for i in range(n-1)]\n",
    "        diag_u_main = []\n",
    "        diag_u_main.append(diag_broadcast[1])\n",
    "        diag_l_low = []\n",
    "        for i in range(1,n):\n",
    "            diag_l_low.append(diag_broadcast[0]/diag_u_main[i-1])\n",
    "            diag_u_main.append(diag_broadcast[1]-diag_l_low[i-1]*diag_broadcast[2])\n",
    "            \n",
    "    if len(diag_broadcast) == 5:\n",
    "        diag_a, diag_b, diag_c, diag_d, diag_e = [], [], [], [], []\n",
    "        diag_c.append(diag_broadcast[2])\n",
    "        diag_d.append(diag_broadcast[3])\n",
    "        diag_e.append(diag_broadcast[4])\n",
    "        diag_b.append(diag_broadcast[1]/diag_c[0])\n",
    "        diag_c.append(diag_broadcast[2] - diag_b[0]*diag_d[0])\n",
    "        for i in range(n-3):\n",
    "            diag_e.append(diag_broadcast[4])\n",
    "        \n",
    "        for i in range(2, n):\n",
    "            diag_a.append(diag_broadcast[0]/diag_c[i-2])\n",
    "            diag_d.append(diag_broadcast[3] - diag_b[i-2]*diag_broadcast[4])\n",
    "            diag_b.append((diag_broadcast[1] - diag_a[i-2]*diag_d[i-2])/diag_c[i-1])\n",
    "            diag_c.append(diag_broadcast[2] - diag_broadcast[4]*diag_a[i-2] - diag_b[i-1]*diag_d[i-1])\n",
    "        diag_l_low = [diag_a, diag_b]\n",
    "        diag_u_up = [diag_d, diag_e]\n",
    "        diag_u_main = [diag_c]\n",
    "        \n",
    "        \n",
    "    return  diag_l_low,  diag_u_main, diag_u_up"
   ]
  },
  {
   "cell_type": "code",
   "execution_count": 50,
   "metadata": {},
   "outputs": [
    {
     "name": "stdout",
     "output_type": "stream",
     "text": [
      "15 ms ± 24.2 µs per loop (mean ± std. dev. of 7 runs, 100 loops each)\n"
     ]
    }
   ],
   "source": [
    "%%timeit\n",
    "l, Up, uM = band_lu( diag_broadcast = x, n = 5000)\n",
    "# print(l)\n",
    "# print(u"
   ]
  },
  {
   "cell_type": "code",
   "execution_count": 49,
   "metadata": {
    "scrolled": true
   },
   "outputs": [
    {
     "name": "stdout",
     "output_type": "stream",
     "text": [
      "1.35 s ± 22.7 ms per loop (mean ± std. dev. of 7 runs, 1 loop each)\n"
     ]
    }
   ],
   "source": [
    "%%timeit\n",
    "import scipy.linalg\n",
    "diag_broadcast =x \n",
    "n=5000\n",
    "diag_diags =[i for i in range(-len(diag_broadcast)//2+1, len(diag_broadcast)//2+1)]\n",
    "b = len(diag_broadcast)//2+1\n",
    "a = diags(diag_broadcast, diag_diags, shape= (n,n), format =\"lil\").todense()\n",
    "scipy.linalg.lu(a)"
   ]
  },
  {
   "cell_type": "code",
   "execution_count": null,
   "metadata": {},
   "outputs": [],
   "source": []
  },
  {
   "cell_type": "code",
   "execution_count": 36,
   "metadata": {},
   "outputs": [
    {
     "name": "stdout",
     "output_type": "stream",
     "text": [
      "[[2.5762028153748746, -0.7962398199498482, -0.4540829771642554], [1.2866079378057895, 2.2235307319409214, -0.2787126342768926, 0.21068837242989816]] [[0.2665658056206367, -0.8624632450130539, -1.5123394037168365, 0.618000007577602, 0.32102426054871647]] [[0.8775237719729622, 0.09864166009243946, -0.4685493101494419, 1.0462498297055067], [0.6053764235349317, 0.6053764235349317, 0.6053764235349317]]\n"
     ]
    }
   ],
   "source": [
    "# %%timeit\n",
    "l, Up, uM = band_lu( diag_broadcast = x, n = 5)\n",
    "# print(l)\n",
    "# print(u\n",
    "print(l, Up, uM)"
   ]
  },
  {
   "cell_type": "markdown",
   "metadata": {},
   "source": [
    "here I ciompare three methods (yes I shoud have done the comparison for 2 methods but by mistake firstly I wrote usual LU and I decided to leave it).So usuualLU is the most time consuming method, than go sparse LU which knows that matrices have a lot of zeros. If we take into account the special structure of matrix and provide by -elemeent band LU this would be the quickest solution"
   ]
  },
  {
   "cell_type": "markdown",
   "metadata": {},
   "source": []
  },
  {
   "cell_type": "markdown",
   "metadata": {},
   "source": [
    "### 2. Stability of LU (8 pts)\n",
    "\n",
    "Let\n",
    "$A = \\begin{pmatrix}\n",
    "\\varepsilon & 1 & 0\\\\\n",
    "1 & 1 & 1 \\\\\n",
    "0 & 1 & 1\n",
    "\\end{pmatrix}.$ \n",
    "* (5 pts) Find analytically LU decomposition with and without pivoting for the matrix $A$.\n",
    "* (3 pts) Explain, why can the LU decomposition fail to approximate factors $L$ and $U$ for $|\\varepsilon|\\ll 1$ in computer arithmetic?"
   ]
  },
  {
   "cell_type": "markdown",
   "metadata": {},
   "source": [
    "$A (without     pivoting) = \\begin{pmatrix}\n",
    "\\varepsilon & 1 & 0\\\\\n",
    "1 & 1 & 1 \\\\\n",
    "0 & 1 & 1\n",
    "\\end{pmatrix} = \\begin{pmatrix}\n",
    "1 & 0 & 0\\\\\n",
    "\\frac{1}{\\varepsilon} & 1 & 0 \\\\\n",
    "0 & \\frac{1}{1-\\frac{1}{\\varepsilon}} & 1\n",
    "\\end{pmatrix} \\begin{pmatrix}\n",
    "\\varepsilon & 1 & 0\\\\\n",
    "0& 1 -\\frac{1}{\\varepsilon}  & 1 \\\\\n",
    "0 &0  & 1-\\frac{1}{1-\\frac{1}{\\varepsilon}}  \n",
    "\\end{pmatrix}.$ \n",
    "\n",
    "$A ( pivoting) = \\begin{pmatrix}\n",
    "\\varepsilon & 1 & 0\\\\\n",
    "1 & 1 & 1 \\\\\n",
    "0 & 1 & 1\n",
    "\\end{pmatrix} = \\begin{pmatrix}\n",
    "1 & 1 & 1 \\\\\n",
    "0 & 1 & 1\\\\\n",
    "\\varepsilon & 1 & 0\n",
    "\\end{pmatrix}  = \\begin{pmatrix}\n",
    "1 & 0& 0\\\\\n",
    "0 & 1 & 0\\\\\n",
    "\\varepsilon & 1-\\varepsilon & 1\n",
    "\\end{pmatrix} \\begin{pmatrix}\n",
    "1 & 1 & 1 \\\\\n",
    "0 & 1 & 1\\\\\n",
    "0 & 0 & -1\n",
    "\\end{pmatrix}.$ "
   ]
  },
  {
   "cell_type": "markdown",
   "metadata": {},
   "source": [
    "without pivoting we get a term which in computers maybe considered as infinity"
   ]
  },
  {
   "cell_type": "markdown",
   "metadata": {},
   "source": [
    "### 3. Block LU (10 pts)\n",
    "\n",
    "Let $A = \\begin{bmatrix} A_{11} & A_{12} \\\\ A_{21} & A_{22} \\end{bmatrix}$ be a block matrix. The goal is to solve the linear system\n",
    "\n",
    "$$\n",
    "     \\begin{bmatrix} A_{11} & A_{12} \\\\ A_{21} & A_{22} \\end{bmatrix} \\begin{bmatrix} u_1 \\\\ u_2 \\end{bmatrix} = \\begin{bmatrix} f_1 \\\\ f_2 \\end{bmatrix}.\n",
    "$$\n",
    "\n",
    "* (2 pts) Using block elimination find matrix $S$ and right-hand side $\\hat{f_2}$ so that $u_2$ can be found from $S u_2 = \\hat{f_2}$. Note that the matrix $S$ is called <font color='red'> Schur complement </font> of the block $A_{11}$.\n",
    "* (4 pts) Using Schur complement properties prove that \n",
    "\n",
    "$$\\det(X+AB) = \\det(X)\\det(I+BX^{-1}A), $$\n",
    "\n",
    "\n",
    "where $X$ - nonsingular square matrix.\n",
    "* (4 pts) Let matrix $F \\in \\mathbb{R}^{m \\times n}$ and $G \\in \\mathbb{R}^{n \\times m}$. Prove that \n",
    "\n",
    "$$\\det(I_m - FG) = \\det(I_n - GF).$$"
   ]
  },
  {
   "cell_type": "markdown",
   "metadata": {},
   "source": [
    "$$\n",
    "     \\begin{bmatrix} A_{11} & A_{12} \\\\ A_{21} & A_{22} \\end{bmatrix} \\begin{bmatrix} u_1 \\\\ u_2 \\end{bmatrix} = \\begin{bmatrix} f_1 \\\\ f_2 \\end{bmatrix}.\n",
    "$$\n",
    "$$\n",
    "     \\begin{bmatrix} I_{11} & 0 \\\\ L_{21} & I_{22} \\end{bmatrix} \\begin{bmatrix} U_{11} &  U_{12} \\\\0 & U_{22} \\end{bmatrix} \\begin{bmatrix} u_1 \\\\ u_2 \\end{bmatrix} = \\begin{bmatrix} f_1 \\\\ f_2 \\end{bmatrix}.\n",
    "$$\n",
    "\n",
    "$$ A_{11} = U_{11}, A_{12} = U_{12} , A_{21} = L_{21}U_{11} = L_{21}A_{11},  A_{21} = L_{21}U_{12} + U_{22}  $$\n",
    "$$ U_{22} = A_{22}-A_{21}A^{-1}_{11}A_{12} $$\n",
    "$$f_2 =  U_{22} u_2 = (A_{22}-A_{21}A^{-1}_{11}A_{12})u_2 $$\n",
    "$$ S = A_{22}-A_{21}A^{-1}_{11}A_{12} $$\n"
   ]
  },
  {
   "cell_type": "markdown",
   "metadata": {},
   "source": [
    "$$\\det(X+AB) = \\det(X)\\det(I+BX^{-1}A), $$\n",
    "    suppose we have matrix $\\begin{bmatrix} A & B \\\\ C & D \\end{bmatrix}$\n",
    "if we make an LU decomposiyio of this matrix then we get $\\begin{bmatrix} I & 0 \\\\ A^{-1}C & I \\end{bmatrix}\\begin{bmatrix} A & B \\\\ 0 & D -B  A^{-1} C\\end{bmatrix}$\n",
    "the determinant of this matrix equels exactl to $det(A)det(D -B  A^{-1} C)$.\n",
    "If we compare it to the formula on the right we can get such a matrix\n",
    "$\\begin{bmatrix} X & -B \\\\ A & I \\end{bmatrix}$\n",
    "\n",
    "$A$ and $I$ commute thus we can get that the determinant of this matrix equals to $det(X+BA)$\n",
    "not in common case but the matruices $A$ and $B$ can commute then wemay get $det(X+AB)$"
   ]
  },
  {
   "cell_type": "markdown",
   "metadata": {},
   "source": [
    "we assume matrix $\\begin{bmatrix} I_n & F \\\\ G & I_m \\end{bmatrix}$. According to the schur compliment we get that it's determinant is $det(I_m)det(I_n- GF)$\n",
    "\n",
    "If we change rows and coloumns in this matrix we will get $\\begin{bmatrix} I_m & G \\\\ F & I_n \\end{bmatrix}$ $det(I_n)det(I_m- GF)$. According to matrix properties the determinant of this matrices are the same"
   ]
  },
  {
   "cell_type": "code",
   "execution_count": null,
   "metadata": {},
   "outputs": [],
   "source": []
  },
  {
   "cell_type": "markdown",
   "metadata": {
    "slideshow": {
     "slide_type": "fragment"
    }
   },
   "source": [
    "## Problem 2 (QR decomposition) 30 pts\n",
    "\n",
    "### 1. Standard Gram-Schmidt algorithm (18 pts)\n",
    "Our goal is to orthogonalize a system of linearly independent vectors $v_1,\\dots,v_n$.\n",
    "The standard algorithm for this task is the Gram-Schmidt process:\n",
    "\n",
    "$$\n",
    "\\begin{split}\n",
    "u_1 &= v_1, \\\\\n",
    "u_2 &= v_2 - \\frac{(v_2, u_1)}{(u_1, u_1)} u_1, \\\\\n",
    "\\dots \\\\\n",
    "u_n &= v_n - \\frac{(v_n, u_1)}{(u_1, u_1)} u_1 - \\frac{(v_n, u_2)}{(u_2, u_2)} u_2 - \\dots - \\frac{(v_n, u_{n-1})}{(u_{n-1}, u_{n-1})} u_{n-1}.\n",
    "\\end{split}\n",
    "$$\n",
    "\n",
    "Obtained $u_1, \\dots, u_n$ are orthogonal vectors in exact arithmetics. Then to make the system orthonormal you should divide each of the vectors by its norm: $u_i := u_i/\\|u_i\\|$.\n",
    "The Gram-Schmidt process can be considered as a QR decomposition. Let us show that."
   ]
  },
  {
   "cell_type": "markdown",
   "metadata": {},
   "source": [
    "* (2 pts) Write out what is matrices $Q$ and $R$ obtained in the process above. \n",
    "\n",
    "* (5 pts) Implement the described Gram-Schmidt algorithm as a function ```gram_schmidt_qr(A)``` that takes a rectangular matrix ```A``` and outputs ```Q,R```.\n",
    "\n",
    "* (3 pts) Create a rectangular matrix $K = [x, Ax, A^2x, \\ldots, A^kx]$ where $A \\in \\mathbb{R}^{100 \\times 100}$ is a random matrix and $x$ is a random vector of the appropriate dimension, $k = 20$.  \n",
    "The loss of orthogonality can be described by the following error: $\\|Q^{\\top}Q-I\\|_2$, where $Q^{\\top}Q$ is called a Gram matrix. Compute QR decomposition of the created matrix $K$ with function that you have implemented and calculate error $\\|Q^{\\top}Q-I\\|_2$. Comment on the result.\n",
    "\n",
    "* (5 pts) The observed loss of orthogonality is a problem of this particular algorithm. Luckily, there is [a simple improvement to the algorithm above](https://en.wikipedia.org/wiki/Gram–Schmidt_process#Numerical_stability) that reduces the loss of orthogonality. Implement this modification as a function ```modified_gram_schmidt_qr(A)``` such that input and output are similar to ```gram_schmidt_qr(A)```. \n",
    "* (3 pts) Compute QR decomposition of the matrix $K$ from the previous task with the function ```modified_gram_schmidt_qr(A)```.\n",
    "Compute error $\\|Q^{\\top}Q-I\\|_2$. Compare this error to the error obtained with a \"pure\" Gram-Schmidt and comment on the result."
   ]
  },
  {
   "cell_type": "markdown",
   "metadata": {},
   "source": [
    "Q is an orthonormal matrix and R is upper triangular. So Q consists of eigenvectors of matrix A and R consists of scalar products of matrix A columns and eigenvectors."
   ]
  },
  {
   "cell_type": "code",
   "execution_count": 17,
   "metadata": {},
   "outputs": [],
   "source": [
    "import numpy as np\n",
    "# INPUT : rectangular matrix A\n",
    "# OUTPUT: matrices Q - orthogonal and R - upper triangular such that A = QR\n",
    "def gram_schmidt_qr(A): # 5 pts\n",
    "    # your code is here\n",
    "    Q = []\n",
    "    Q.append(A[:, 0])\n",
    "    for i in range(1, A.shape[1]):\n",
    "        s= 0\n",
    "        for j in range(0, i):\n",
    "            s +=(A[:,i].dot(Q[j])/(Q[ j].dot(Q[j])))*Q[ j]\n",
    "        u = A[:,i] - s\n",
    "#         u = u/np.linalg.norm(u)\n",
    "        Q.append(u)\n",
    "    for i in range(A.shape[1]):\n",
    "        Q[i] = Q[i]/np.linalg.norm(Q[i])\n",
    "    \n",
    "    R = np.zeros((A.shape[0], A.shape[1]))\n",
    "    for i in range(A.shape[0]):\n",
    "        for j in range(A.shape[1]):\n",
    "            if(i<=j):\n",
    "                R[i,j] = Q[i].dot(A[:, j])\n",
    "    Q = np.array(Q).T\n",
    "    return Q, R\n",
    "\n",
    "# INPUT : rectangular matrix A\n",
    "# OUTPUT: matrices Q - orthogonal and R - upper triangular such that A = QR\n",
    "def modified_gram_schmidt_qr(A): # 5 pts\n",
    "    Q = []\n",
    "    Q.append(A[:, 0])\n",
    "    for i in range(1, A.shape[1]):\n",
    "        u = A[:, i]\n",
    "        for j in range(0, i):\n",
    "            u = u -(u.dot(Q[j])/(Q[ j].dot(Q[j])))*Q[ j]\n",
    "        Q.append(u)\n",
    "        \n",
    "    for i in range(A.shape[1]):\n",
    "        Q[i] = Q[i]/np.linalg.norm(Q[i])\n",
    "    \n",
    "    R = np.zeros((A.shape[0], A.shape[1]))\n",
    "    for i in range(A.shape[0]):\n",
    "        for j in range(A.shape[1]):\n",
    "            if(i<=j):\n",
    "                R[i,j] = Q[i].dot(A[:, j])\n",
    "    Q = np.array(Q).T\n",
    "        \n",
    "    # your code is here\n",
    "    return Q, R"
   ]
  },
  {
   "cell_type": "code",
   "execution_count": 5,
   "metadata": {},
   "outputs": [
    {
     "name": "stdout",
     "output_type": "stream",
     "text": [
      "(100, 20)\n"
     ]
    }
   ],
   "source": [
    "A= np.random.random((100,100))\n",
    "x = np.random.random((100,))\n",
    "k = [x]\n",
    "for i in range(19):\n",
    "    k.append(A@k[-1])\n",
    "matrix = np.stack(k, axis = 1)\n",
    "print(matrix.shape)"
   ]
  },
  {
   "cell_type": "code",
   "execution_count": 18,
   "metadata": {},
   "outputs": [
    {
     "name": "stdout",
     "output_type": "stream",
     "text": [
      "(20, 20)\n",
      "12.520331542966975\n"
     ]
    }
   ],
   "source": [
    "q, r = gram_schmidt_qr(matrix)\n",
    "print((q.T@q).shape)\n",
    "print(np.linalg.norm(q.T@q - np.eye(q.shape[1])))"
   ]
  },
  {
   "cell_type": "code",
   "execution_count": 19,
   "metadata": {},
   "outputs": [
    {
     "name": "stdout",
     "output_type": "stream",
     "text": [
      "(20, 20)\n",
      "1.648397056692523\n"
     ]
    }
   ],
   "source": [
    "q, r = modified_gram_schmidt_qr(matrix)\n",
    "print((q.T@q).shape)\n",
    "print(np.linalg.norm(q.T@q - np.eye(q.shape[1])))"
   ]
  },
  {
   "cell_type": "markdown",
   "metadata": {},
   "source": [
    "Due to rounding errors from the classical qr we can get matrix q which is not orthogonal what can lead to unstability.\n",
    "Modified approach introduces smaller errors on each step and that makes this approach more stable."
   ]
  },
  {
   "cell_type": "code",
   "execution_count": 4,
   "metadata": {},
   "outputs": [
    {
     "name": "stdout",
     "output_type": "stream",
     "text": [
      "[[ 0.85714286 -0.39428571 -0.33142857]\n",
      " [ 0.42857143  0.90285714  0.03428571]\n",
      " [-0.28571429  0.17142857 -0.94285714]]\n",
      "[[ 14.  21. -14.]\n",
      " [  0. 175. -70.]\n",
      " [  0.   0.  35.]]\n"
     ]
    }
   ],
   "source": [
    "A= np.array([[12, -51, 4],[6, 167,-68], [-4, 24, -41]])\n",
    "q, r = gram_schmidt_qr(A)\n",
    "print(q, r, sep=\"\\n\")"
   ]
  },
  {
   "cell_type": "code",
   "execution_count": 5,
   "metadata": {},
   "outputs": [
    {
     "name": "stdout",
     "output_type": "stream",
     "text": [
      "[[ 0.85714286 -0.39428571 -0.33142857]\n",
      " [ 0.42857143  0.90285714  0.03428571]\n",
      " [-0.28571429  0.17142857 -0.94285714]]\n",
      "[[ 14.  21. -14.]\n",
      " [  0. 175. -70.]\n",
      " [  0.   0.  35.]]\n"
     ]
    }
   ],
   "source": [
    "A= np.array([[12, -51, 4],[6, 167,-68], [-4, 24, -41]])\n",
    "q, r = modified_gram_schmidt_qr(A)\n",
    "print(q, r, sep=\"\\n\")"
   ]
  },
  {
   "cell_type": "markdown",
   "metadata": {},
   "source": [
    "### 2. Updating QR decompositions (12 pts)\n",
    "\n",
    "Suppose we are dealing with overdetermined system:\n",
    "\n",
    "$$ Ax = y, \\;\\; A \\in \\mathbb{R}^{m \\times n}, \\;\\;  m \\geq n. $$\n",
    "\n",
    "If you were attentive during the course, you should be aware of \n",
    "the canonical way to solve this system. \n",
    "\n",
    "- No, implementing **Householder $QR$** will not be your task :)\n",
    "\n",
    "- We assume that $QR$ decomposition of $A$ **is given**:\n",
    "\n",
    "$$ QR = A = \\begin{bmatrix}a_1 & a_2 & \\ldots & a_n \\end{bmatrix}, \\;\\; a_i \\in \\mathbb{R}^m,$$\n",
    "\n",
    "where $Q \\in \\mathbb{R}^{m \\times m}$ is unitary matrix and $R \\in \\mathbb{R}^{m \\times n}$ is upper triangular.\n",
    "\n",
    "- Let $k$ be an arbitrary column index, $1 \\leq k \\leq n$, and $z \\in \\mathbb{R}^{m}$ be an arbitrary vector.\n",
    "\n",
    "We are interested in matrices:\n",
    "\n",
    "$$ \\tilde{A} = \\begin{bmatrix}a_1 & \\ldots & a_{k-1} & a_{k+1} & \\ldots a_n \\end{bmatrix} \\in \\mathbb{R}^{m \\times (n-1)},$$\n",
    "\n",
    "and:\n",
    "\n",
    "$$ \\hat{A} = \\begin{bmatrix}a_1 & \\ldots & a_{k} & z & a_{k+1} & \\ldots a_n \\end{bmatrix} \\in \\mathbb{R}^{m \\times (n+1)},$$\n",
    "\n",
    "which are obtained by deleting / inserting one column from / to the matrix $A$.\n",
    "\n",
    "For example, if $A$ comes from a least-squares problem, such matrices appear if one wants to examine the significance of the $k^{th}$ parameter in the underlying model (e.g. think in terms of linear regression).\n",
    "\n",
    "- We want to compute decompostions of these updated matrices:\n",
    "\n",
    "$$ \\tilde{A} = \\tilde{Q}\\tilde{R}, \\;\\; \\hat{A} = \\hat{Q}\\hat{R}. $$\n",
    "\n",
    "Performing full orthogonalization process will be redundant. Instead, the known $QR$ factors of $A$ should be **updated** in a proper way.\n",
    "\n",
    "- Different methods for performing $QR$ decomposition were studied during the course. We expect the factors of updated matrices can be recovered with a small number of selective updates, hence the **Givens rotations** seem to be the most appropriate.\n",
    "\n",
    "- Recall the Givens rotation matrix :\n",
    "\n",
    "$$G_{ij}(\\theta) = \\begin{bmatrix} \n",
    "1      & \\ldots & 0      & \\ldots & 0      & \\ldots & 0      \\\\\n",
    "\\vdots & \\ddots & \\vdots &        & \\vdots &        & \\vdots \\\\\n",
    "0      & \\ldots & c      & \\ldots & s      & \\ldots & 0      \\\\\n",
    "\\vdots &        & \\vdots & \\ddots & \\vdots &        & \\vdots \\\\\n",
    "0      & \\ldots & -s     & \\ldots & c      & \\ldots & 0      \\\\\n",
    "\\vdots &        & \\vdots &        & \\vdots & \\ddots & \\vdots \\\\\n",
    "0      & \\ldots & 0      & \\ldots & 0      & \\ldots & 1      \n",
    "\\end{bmatrix}  \\;\\; \\in \\mathbb{R}^{m \\times m}, \\;\\; c = \\cos \\theta, \\;\\; s = \\sin \\theta,$$ \n",
    "\n",
    "which differs from the identity $\\mathrm{I}^{m \\times m}$ by a $2 \\times 2$ sub-matrix:\n",
    "\n",
    "$$\n",
    "{G}(\\theta) = \\begin{bmatrix} c & s \\\\ -s & c \\end{bmatrix} \\in \\mathbb{R}^{2 \\times 2},\n",
    "$$\n",
    "placed on the rows and columns with indices $i$ and $j$. \n",
    "\n",
    "1. (1 pts)\n",
    "Matrix ${G}$ has clear geometric interpretation in 2 dimensions. Let  $a = \\begin{pmatrix} a_1 \\\\ a_2 \\end{pmatrix} \\in \\mathbb{R}^2$ be an arbitrary non-zero vector. According to the template provided below, implement the function to construct matrix $G$, such that:\n",
    "\n",
    "$$ {G}^T \\begin{pmatrix} a_1 \\\\ a_2 \\end{pmatrix} = \\begin{pmatrix} \\alpha \\\\ 0 \\end{pmatrix}.$$\n",
    "\n",
    "What are geometrical meanings of $\\alpha$ and $\\theta$? \n"
   ]
  },
  {
   "cell_type": "markdown",
   "metadata": {},
   "source": [
    " geometrically  $\\alpha$ and $\\theta$ are the angeles between the vector we rotate and the axises"
   ]
  },
  {
   "cell_type": "code",
   "execution_count": 20,
   "metadata": {},
   "outputs": [
    {
     "name": "stdout",
     "output_type": "stream",
     "text": [
      "[0.95154266 0.        ]\n"
     ]
    }
   ],
   "source": [
    "def givens(a):\n",
    "    \n",
    "    givens = np.zeros((2,2))\n",
    "    givens[0,0] = a[0]/np.sqrt(a[0]*a[0]+a[1]*a[1])\n",
    "    givens[1,1] = a[0]/np.sqrt(a[0]*a[0]+a[1]*a[1])\n",
    "    givens[0,1] = -a[1]/np.sqrt(a[0]*a[0]+a[1]*a[1])\n",
    "    givens[1,0] = a[1]/np.sqrt(a[0]*a[0]+a[1]*a[1])\n",
    "    '''\n",
    "    Input: \n",
    "        a: np.array of size (2)\n",
    "    Output: \n",
    "        G: np.array of size (2, 2)\n",
    "            Rotation matrix, G^T eliminates the second component of a\n",
    "    '''\n",
    "\n",
    "    # Your code is here\n",
    "    return givens\n",
    "#     raise NotImplementedError()\n",
    "    \n",
    "\n",
    "a = np.random.random(2)\n",
    "print(givens(a).T.dot(a))"
   ]
  },
  {
   "cell_type": "markdown",
   "metadata": {},
   "source": [
    "- Similarly, matrix $G_{ij}$ can be constructed in order to eliminate the $j^{th}$ component of an arbitrary vector of size $m$. This leads to the well-known **Givens $QR$ algorithm** (see lecture notes!).\n",
    "\n",
    "- Givens rotations typically appear in matrix form:\n",
    "\n",
    "$$ G_{ij}^T X, \\;\\; X^{'}G_{ij},$$\n",
    "\n",
    "where $X$ and $X^{'}$ are some matrices with compatible sizes, e.g. intermediate factors in the **Givens $QR$ algorithm**. \n",
    "\n",
    "How to perform these multiplications efficiently? \n",
    "Obviously, $G_{ij}$ does not need to be stored in explicit form. It affects only two rows / columns, hence only appropriate submatrices should be modified.\n",
    "\n",
    "2. (5 pts) Your second task is to propose an efficient procedure for computing $\\tilde{Q}, \\tilde{R}$ factors of $\\tilde{A}$ by a proper update of $Q, R$ factors of $A$. \n",
    "\n",
    "Hint: consider the following block partition of $R$ (assuming $k^{th}$ column deleted):\n",
    "$$ R = \n",
    "\\begin{bmatrix} \n",
    "R_{11} & v & R_{13} \\\\\n",
    "0 & r_{kk} & \\omega^T \\\\\n",
    "0 & 0 & R^{33}\n",
    "\\end{bmatrix},\n",
    "$$\n",
    "and note, that:\n",
    "$$Q^T\\tilde{A} = \n",
    "\\begin{bmatrix}\n",
    "R_{11} & R_{13} \\\\\n",
    "0 & \\omega^T \\\\\n",
    "0 & R_{33}\n",
    "\\end{bmatrix} = H.$$\n",
    "\n",
    "- (2 pts) What structure has matrix $H$ and how does it help in understanding the proper way to compute updated QR decomposition?\n",
    "\n",
    "- (3 pts) Implement the function according to the template provided below.\n",
    "Use Givens matrices $G_{ij}$ with $j = i+1$ for the convinience.\n",
    "\n",
    "- Only one loop over non-zero subdiagonal elements of $H$ is allowed. You are supposed to perform computations in a proper vectorized form. For example, the *in-place* multiplication $G_{ij}^T X$ with a random matrix $X \\in \\mathbb{R}^{m \\times n}$ can be implemented as follows: ```X[[i,j],:] = G.T.dot(X[[i,j],:])```. \n",
    "\n",
    "- Do not modify elements which are known to be zero.\n"
   ]
  },
  {
   "cell_type": "markdown",
   "metadata": {},
   "source": [
    "matrix $H$ used to be upper trianguler matrix before the colomn was deleted. that means that now starting from the column number k this matrix has a lower subdiagonal"
   ]
  },
  {
   "cell_type": "code",
   "execution_count": 46,
   "metadata": {},
   "outputs": [
    {
     "name": "stdout",
     "output_type": "stream",
     "text": [
      "81.42692948826273\n",
      "81.42692948826274\n",
      "6.394987280557407e-14\n"
     ]
    }
   ],
   "source": [
    "def delete_column_QR(A, k):\n",
    "    \n",
    "    '''\n",
    "    Input: \n",
    "        A: np.array of size (m, n) \n",
    "            \n",
    "        k: positive integer\n",
    "            Index of deleted column, 0 \\leq k \\leq n - 1\n",
    "        \n",
    "    Output: \n",
    "        Q: np.array of size (m, m)\n",
    "        \n",
    "        R: np.array of size (m, n - 1)\n",
    "\n",
    "    '''\n",
    "    \n",
    "    \n",
    "    Q, R = np.linalg.qr(A, mode='complete') # factors of $A$ are known\n",
    "    R = np.delete(R, k, axis = 1) # delete column\n",
    "    A = np.delete(A, k, axis= 1)    \n",
    "    R_tilde = Q.T @ A\n",
    "    Ed = np.eye(Q.T.shape[0], Q.T.shape[1])\n",
    "   \n",
    "    for i in range(k, A.shape[1]):\n",
    "        \n",
    "#         Ed2 = np.eye(Q.T.shape[0], Q.T.shape[1])\n",
    "        a = R_tilde[i:i+2, i]\n",
    "        Givens =  givens(a) \n",
    "        a = givens(a).T.dot(a)\n",
    "        R_tilde[i:i+2, i:] = Givens.T @ R_tilde[i:i+2, i:] \n",
    "        Q[:,i:i+2] = Q[:,i:i+2] @ Givens\n",
    "        \n",
    "#         assert  np.isclose(a[1] ,0)\n",
    "#         R_tilde[i:i+2, i] = a\n",
    "#         ed_old = Ed.copy()\n",
    "#         Ed2[i:i+2,i:i+2] = givens(a1)      \n",
    "#         Ed = Ed @ Ed2\n",
    "#         diff = Ed - ed_old\n",
    "#         print((diff[diff != 0]).round(2))\n",
    "        \n",
    "    \n",
    "    # Your code is here\n",
    "   \n",
    "#     assert np.isclose(np.linalg.norm( Q - Q@Ed), 0)\n",
    "    return Q, R_tilde\n",
    "    \n",
    "\n",
    "# Check yourself\n",
    "m, n = (200, 100)\n",
    "A = np.random.rand(m, n)\n",
    "k = np.random.randint(0, n)\n",
    "A_tilde = np.delete(A, k, axis=1)\n",
    "Q_tilde, R_tilde = delete_column_QR(A, k)\n",
    "\n",
    "print(np.linalg.norm(A_tilde ))\n",
    "print(np.linalg.norm(Q_tilde.dot(R_tilde)))\n",
    "print(np.linalg.norm(A_tilde - Q_tilde.dot(R_tilde)))"
   ]
  },
  {
   "cell_type": "markdown",
   "metadata": {},
   "source": [
    "3. (3 pts) When a column is inserted, the factors $\\hat{Q}, \\hat{R}$ of $\\hat{A}$ again can be computed efficiently by a proper update of $Q, R$ factors of $A$.\n",
    "\n",
    "\n",
    "- Proceed similarly to the previous task. Implement the function according to the template provided below. \n",
    "\n",
    "- Choose optimal order of elimination to minimize the number of rotations."
   ]
  },
  {
   "cell_type": "code",
   "execution_count": 54,
   "metadata": {},
   "outputs": [
    {
     "name": "stdout",
     "output_type": "stream",
     "text": [
      "(200, 200) (200, 100)\n",
      "81.58798801375602\n",
      "81.58798801375603\n",
      "7.789298428291984e-14\n"
     ]
    }
   ],
   "source": [
    "def insert_column_QR(A, k, z):\n",
    "    '''\n",
    "    Input: \n",
    "        A: np.array of size (m, n) \n",
    "            \n",
    "        k: positive integer\n",
    "            Index of inserted column, 0 \\leq k leq n - 1\n",
    "            \n",
    "        z: np.array of size (m)\n",
    "            Inserted column\n",
    "        \n",
    "    Output: \n",
    "        Q: np.array of size (m, m)\n",
    "        \n",
    "        R: np.array of size (m, n + 1)\n",
    "    '''\n",
    "    Q, R = np.linalg.qr(A, mode='complete') # factors of $A$ are known\n",
    "    \n",
    "\n",
    "    A_tilde = np.insert(A, k, z, axis = 1)\n",
    "    R_tilde = Q.T @ A_tilde\n",
    "    n = A.shape[1]+1 if A.shape[0]> A.shape[1] else A.shape[0]\n",
    "    \n",
    "    for j in range(k, n):\n",
    "        for i in range(m-1,j, -1):\n",
    "            a = R_tilde[[i-1,i], j]\n",
    "            Givens =  givens(a) \n",
    "#             a = givens(a).T.dot(a)\n",
    "            R_tilde[[i-1,i], j:] = Givens.T @ R_tilde[[i-1,i], j:]\n",
    "            Q[:,[i-1,i]] = Q[:,[i-1,i]] @ Givens\n",
    "            \n",
    "    # Your code is here\n",
    "#     print(Q.shape, R.shape)    return Q,R_tilde\n",
    "\n",
    "\n",
    "# Check yourself\n",
    "m, n = (200, 100)\n",
    "A = np.random.rand(m, n)\n",
    "k = np.random.randint(0, n)\n",
    "z = np.random.rand(m)\n",
    "A_hat = np.insert(A, k, z, axis=1)\n",
    "Q_hat, R_hat = insert_column_QR(A, k, z)\n",
    "\n",
    "print(np.linalg.norm(A_hat ))\n",
    "print(np.linalg.norm(Q_hat.dot(R_hat)))\n",
    "print(np.linalg.norm(A_hat - Q_hat.dot(R_hat)))"
   ]
  },
  {
   "cell_type": "markdown",
   "metadata": {},
   "source": [
    "4. (3 pts) In the context of least-squares problems, appending rows to a matrix is just as important as inserting columns (e.g. new samples in linear regression).\n",
    "\n",
    "Consider matrix:\n",
    "\n",
    "$$ \\overline{A} = \\begin{bmatrix} \\omega^T \\\\ A \\end{bmatrix} \\in \\mathbb{R}^{(m+1) \\times n},$$\n",
    "\n",
    "which is obtained by appending a row $\\omega^T \\in \\mathbb{R}^{n}$ to the matrix $A$.\n",
    "\n",
    "Similarly to the previous tasks, you need to compute $\\overline{Q}, \\overline{R}$ factors of $\\overline{A}$ by a proper update of $Q,R$ factors of $A$.\n",
    "\n",
    "- Implement the function according to the template provided below. Your code is still expected to be efficient!"
   ]
  },
  {
   "cell_type": "code",
   "execution_count": 82,
   "metadata": {},
   "outputs": [
    {
     "name": "stdout",
     "output_type": "stream",
     "text": [
      "(201, 100)\n",
      "(201, 100)\n",
      "6.732047049004578e-14\n",
      "82.21791324792603\n",
      "82.21791324792602\n"
     ]
    }
   ],
   "source": [
    "def insert_row_QR(A, w):\n",
    "    '''\n",
    "    Input: \n",
    "        A: np.array of size (m, n)\n",
    "\n",
    "        w: np.array of size (n)\n",
    "            Inserted row\n",
    "        \n",
    "    Output:\n",
    "        Q: np.array of size (m + 1, m + 1)\n",
    "        \n",
    "        R: np.array of size (m + 1, n)\n",
    "    '''\n",
    "    \n",
    "    Q, R = np.linalg.qr(A, mode='complete')\n",
    "    A_tilde = np.insert(A,  0, w, axis = 0)\n",
    "#     Q_t = np.insert(Q, 0, zer,  axis = 1)\n",
    "    Q_t = np.insert(Q, 0,[0]*np.shape(A)[0], axis = 0)\n",
    "    Q_t = np.insert(Q_t, 0, [0]*(np.shape(A)[0]+1), axis = 1)\n",
    "    Q_t[0,0] = 1\n",
    "    R_t = Q_t.T @ A_tilde\n",
    "    print(A_tilde.shape)\n",
    "    print(R_t.shape)\n",
    "    for i in range(np.shape(A)[1]):\n",
    "        Givens = givens(R_t[i:i+2, i])\n",
    "        R_t[i:i+2, i:]= Givens.T @ R_t[i:i+2, i:]\n",
    "        Q_t[:,i:i+2] = Q_t[:,i:i+2] @ Givens\n",
    "    # Your code is here\n",
    "    return Q_t, R_t \n",
    "     \n",
    "\n",
    "# Check yourself\n",
    "m, n = (200, 100)\n",
    "A = np.random.rand(m, n)\n",
    "w = np.random.rand(n)\n",
    "A_overline = np.insert(A, 0, w, axis=0)\n",
    "Q_overline, R_overline = insert_row_QR(A, w)\n",
    "print(np.linalg.norm(A_overline - Q_overline.dot(R_overline)))\n",
    "\n",
    "print(np.linalg.norm( Q_overline.dot(R_overline)))\n",
    "print(np.linalg.norm(A_overline ))"
   ]
  },
  {
   "cell_type": "markdown",
   "metadata": {},
   "source": [
    "## Problem 3 (Word2Vec as Matrix Factorization) 45 pts\n",
    "\n",
    "In this assignment you are supposed to apply SVD to training your own [word embedding model](https://en.wikipedia.org/wiki/Word_embedding) which maps English words to vectors of real numbers.\n",
    "\n",
    "Skip-Gram Negative Sampling (SGNS) word embedding model, commonly known as **word2vec** ([Mikolov et al., 2013](http://papers.nips.cc/paper/5021-distributed-representations-of-words-and-phrases-and-their-compositionality.pdf)), is usually optimized by stochastic gradient descent. However, the optimization of SGNS objective can be viewed as implicit matrix factorization objective as was shown in ([Levy and Goldberg, 2015](http://papers.nips.cc/paper/5477-neural-word-embedding-as-implicit-matrix-factorization.pdf))."
   ]
  },
  {
   "cell_type": "markdown",
   "metadata": {},
   "source": [
    "###### 1. Notation\n",
    "Assume we have a text corpus given as a sequence of words $\\{w_1,w_2,\\dots,w_n\\}$ where $n$ may be larger than $10^{12}$ and $w_i \\in \\mathcal{V}$ belongs to a vocabulary of words $\\mathcal{V}$. A word $c \\in \\mathcal{V}$ is called *a context* of word $w_i$ if they are found together in the text. More formally, given some measure $L$ of closeness between two words (typical choice is $L=2$), a word $c \\in \\mathcal{V}$ is called a context if $c \\in \\{w_{i-L}, \\dots, w_{i-1}, w_{i+1}, \\dots, w_{i+L} \\}$ Let $\\mathbf{w},\\mathbf{c}\\in\\mathbb{R}^d$ be the *word embeddings* of word $w$ and context $c$, respectively. Assume they are specified by the mapping  $\\Phi:\\mathcal{V}\\rightarrow\\mathbb{R}^d$, so $\\mathbf{w}=\\Phi(w)$. The ultimate goal of SGNS word embedding model is to fit a good mapping $\\Phi$.\n",
    "\n",
    "Let $\\mathcal{D}$ be a multiset of all word-contexts pairs observed in the corpus. In the SGNS model, the probability that word-context pair $(w,c)$ is observed in the corpus is modeled as the following distribution:\n",
    "\n",
    "$$\n",
    "P(\\#(w,c)\\neq 0|w,c) = \\sigma(\\mathbf{w}^\\top \\mathbf{c}) = \\frac{1}{1 + \\exp(-\\mathbf{w}^\\top \\mathbf{c})},\n",
    "$$\n",
    "\n",
    "where $\\#(w,c)$ is the number of times the pair $(w,c)$ appears in $\\mathcal{D}$ and $\\mathbf{w}^\\top\\mathbf{c}$ is the scalar product of vectors $\\mathbf{w}$ and $\\mathbf{c}$. Two important quantities which we will also use further are the number of times the word $w$ and the context $c$ appear in $\\mathcal{D}$, which can be computed as\n",
    "\n",
    "$$\n",
    "\\#(w) = \\sum_{c\\in\\mathcal{V}} \\#(w,c), \\quad \\#(c) = \\sum_{w\\in\\mathcal{V}} \\#(w,c).\n",
    "$$\n"
   ]
  },
  {
   "cell_type": "markdown",
   "metadata": {},
   "source": [
    "###### 2. Optimization objective"
   ]
  },
  {
   "cell_type": "markdown",
   "metadata": {},
   "source": [
    "zVanilla word embedding models are trained by maximizing log-likelihood of observed word-context pairs, namely\n",
    "                                                                                            ,\n",
    "$$\n",
    "\\mathcal{L} = \\sum_{w \\in \\mathcal{V}} \\sum_{c \\in \\mathcal{V}} \\#(w,c) \\log \\sigma(\\mathbf{w}^\\top\\mathbf{c}) \\rightarrow \\max_{\\mathbf{w},\\mathbf{c} \\in \\mathbb{R}^d}.\n",
    "$$"
   ]
  },
  {
   "cell_type": "markdown",
   "metadata": {},
   "source": [
    "Skip-Gram Negative Sampling approach modifies the objective by additionally minimizing the log-likelihood of random word-context pairs, so called *negative samples*. This idea incorporates some useful linguistic information that some number ($k$, usually $k=5$) of word-context pairs *are not* found together in the corpus which usually results in word embeddings of higher quality. The resulting optimization problem is\n",
    "\n",
    "$$\n",
    "\\mathcal{L} = \\sum_{w \\in \\mathcal{V}} \\sum_{c \\in \\mathcal{V}} \\left( \\#(w,c) \\log \\sigma(\\mathbf{w}^\\top\\mathbf{c}) + k \\cdot \\mathbb{E}_{c'\\sim P_\\mathcal{D}} \\log \\sigma (-\\mathbf{w}^\\top\\mathbf{c}) \\right) \\rightarrow \\max_{\\mathbf{w},\\mathbf{c} \\in \\mathbb{R}^d},\n",
    "$$\n",
    "\n",
    "where $P_\\mathcal{D}(c)=\\frac{\\#(c)}{|\\mathcal{D}|}$ is a probability distribution over word contexts from which negative samples are drawn."
   ]
  },
  {
   "cell_type": "markdown",
   "metadata": {},
   "source": [
    "[Levy and Goldberg, 2015](http://papers.nips.cc/paper/5477-neural-word-embedding-as-implicit-matrix-factorization.pdf) showed that this objective can be equivalently written as\n",
    "\n",
    "$$\n",
    "\\mathcal{L} = \\sum_{w \\in \\mathcal{V}} \\sum_{c \\in \\mathcal{V}} f(w,c) = \\sum_{w \\in \\mathcal{V}} \\sum_{c \\in \\mathcal{V}} \\left( \\#(w,c) \\log \\sigma(\\mathbf{w}^\\top\\mathbf{c}) + \\frac{k\\cdot\\#(w)\\cdot\\#(c)}{|\\mathcal{D}|} \\log \\sigma (-\\mathbf{w}^\\top\\mathbf{c}) \\right) \\rightarrow \\max_{\\mathbf{w},\\mathbf{c} \\in \\mathbb{R}^d},\n",
    "$$\n",
    "\n",
    "A crucial observation is that this loss function depends only on the scalar product $\\mathbf{w}^\\top\\mathbf{c}$ but not on embedding $\\mathbf{w}$ and $\\mathbf{c}$ separately."
   ]
  },
  {
   "cell_type": "markdown",
   "metadata": {},
   "source": [
    "###### 3. Matrix factorization problem statement"
   ]
  },
  {
   "cell_type": "markdown",
   "metadata": {},
   "source": [
    "Let $|\\mathcal{V}|=m$, $W \\in \\mathbb{R}^{m\\times d}$ and $C \\in \\mathbb{R}^{m\\times d}$ be matrices, where each row $\\mathbf{w}\\in\\mathbb{R}^d$ of matrix $W$ is the word embedding of the corresponding word $w$ and each row $\\mathbf{c}\\in\\mathbb{R}^d$ of matrix $C$ is the context embedding of the corresponding context $c$. SGNS embeds both words and their contexts into a low-dimensional space $\\mathbb{R}^d$, resulting in the word and context matrices $W$ and $C$. The rows of matrix $W$ are typically used in NLP tasks (such as computing word similarities) while $C$ is ignored. It is nonetheless instructive to consider the product $W^\\top C = M$. Viewed this way, SGNS can be described as factorizing an implicit matrix $M$ of dimensions $m \\times m$ into two smaller matrices.\n",
    "\n",
    "Which matrix is being factorized? A matrix entry $M_{wc}$ corresponds to the dot product $\\mathbf{w}^\\top\\mathbf{c}$ . Thus, SGNS is factorizing a matrix in which each row corresponds to a word $w \\in \\mathcal{V}$ , each column corresponds to a context $c \\in \\mathcal{V}$, and each cell contains a quantity $f(w,c)$ reflecting the strength of association between that particular word-context pair. Such word-context association matrices are very common in the NLP and word-similarity literature. That said, the objective of SGNS does not explicitly state what this association metric is. What can we say about the association function $f(w,c)$? In other words, which matrix is SGNS factorizing? Below you will find the answers."
   ]
  },
  {
   "cell_type": "markdown",
   "metadata": {},
   "source": [
    "### Task 1 (theoretical) 9 pts"
   ]
  },
  {
   "cell_type": "markdown",
   "metadata": {},
   "source": [
    "Solve SGNS optimization problem with respect to the $\\mathbf{w}^\\top\\mathbf{c}$ and show that the matrix being factorized is\n",
    "\n",
    "$$\n",
    "M_{wc} = \\mathbf{w}^\\top\\mathbf{c} = \\log \\left( \\frac{\\#(w,c) \\cdot |\\mathcal{D}|}{k\\cdot\\#(w)\\cdot\\#(c)} \\right)\n",
    "$$\n",
    "\n",
    "**Hint:** Denote $x=\\mathbf{w}^\\top\\mathbf{c}$, rewrite SGNG optimization problem in terms of $x$ and solve it."
   ]
  },
  {
   "cell_type": "markdown",
   "metadata": {},
   "source": [
    "**Note:** This matrix is called Shifted Pointwise Mutual Information (SPMI) matrix, as its elements can be written as\n",
    "\n",
    "$$\n",
    "\\text{SPMI}(w,c) = M_{wc} = \\mathbf{w}^\\top\\mathbf{c} = \\text{PMI}(w,c) - \\log k\n",
    "$$\n",
    "\n",
    "and $\\text{PMI}(w,c) = \\log \\left( \\frac{\\#(w,c) \\cdot |\\mathcal{D}|}{\\#(w)\\cdot\\#(c)} \\right)$ is the well-known [pointwise mutual information](https://en.wikipedia.org/wiki/Pointwise_mutual_information) of $(w,c)$."
   ]
  },
  {
   "cell_type": "markdown",
   "metadata": {},
   "source": [
    "$$\n",
    "\\mathcal{L} = \\sum_{w \\in \\mathcal{V}} \\sum_{c \\in \\mathcal{V}} f(w,c) = \\sum_{w \\in \\mathcal{V}} \\sum_{c \\in \\mathcal{V}} \\left( \\#(w,c) \\log \\sigma(\\mathbf{w}^\\top\\mathbf{c}) + \\frac{k\\cdot\\#(w)\\cdot\\#(c)}{|\\mathcal{D}|} \\log \\sigma (-\\mathbf{w}^\\top\\mathbf{c}) \\right) \\rightarrow \\max_{\\mathbf{w},\\mathbf{c} \\in \\mathbb{R}^d},\n",
    "$$\n",
    "\n",
    "$$ \\frac{d\\mathcal{L}}{d(\\mathbf{w}^\\top\\mathbf{c})}= \\frac{d\\sum_{w \\in \\mathcal{V}} \\sum_{c \\in \\mathcal{V}} f(w,c)}{d(\\mathbf{w}^\\top\\mathbf{c})} = \\sum_{w \\in \\mathcal{V}} \\sum_{c \\in \\mathcal{V}} \\left( \\#(w,c) \\frac{\\sigma(\\mathbf{w}^\\top\\mathbf{c})(1-\\sigma(\\mathbf{w}^\\top\\mathbf{c}))}{\\sigma(\\mathbf{w}^\\top\\mathbf{c}}) + \\frac{k\\cdot\\#(w)\\cdot\\#(c)}{|\\mathcal{D}|} \\sigma (\\mathbf{w}^\\top\\mathbf{c}) \\right) = 0$$\n",
    "\n",
    "$$ \\frac{d\\mathcal{l}}{d(\\mathbf{w}^\\top\\mathbf{c})}= \\#(w,c) \\frac{\\sigma(\\mathbf{w}^\\top\\mathbf{c})(1-\\sigma(\\mathbf{w}^\\top\\mathbf{c}))}{\\sigma(\\mathbf{w}^\\top\\mathbf{c}}) + \\frac{k\\cdot\\#(w)\\cdot\\#(c)}{|\\mathcal{D}|} \\sigma (\\mathbf{w}^\\top\\mathbf{c})  = 0$$\n",
    "\n",
    "$$ \\sigma(\\mathbf{w}^\\top\\mathbf{c}) = \\frac{\\#(w,c)|\\mathcal{D}|}{\\#(w,c)|\\mathcal{D}|+k\\cdot\\#(w)\\cdot\\#(c)} $$\n",
    "\n",
    "$$ \\frac{1}{1+e^{-x}} = \\frac{1}{1+\\frac{k\\cdot\\#(w)\\cdot\\#(c)}{\\#(w,c)|\\mathcal{D}|}} $$\n",
    "\n",
    "$$ e^{-x} = \\frac{k\\cdot\\#(w)\\cdot\\#(c)}{\\#(w,c)|\\mathcal{D}|} $$\n",
    "\n",
    "$$ x = log\\frac{\\#(w,c)|\\mathcal{D}|}{k\\cdot\\#(w)\\cdot\\#(c)} $$"
   ]
  },
  {
   "cell_type": "markdown",
   "metadata": {},
   "source": [
    "### Task 2 (practical) 36 pts"
   ]
  },
  {
   "cell_type": "code",
   "execution_count": 1,
   "metadata": {},
   "outputs": [],
   "source": [
    "import os\n",
    "import numpy as np\n",
    "from sklearn.metrics.pairwise import cosine_similarity\n",
    "from scipy.sparse.linalg import svds"
   ]
  },
  {
   "cell_type": "markdown",
   "metadata": {},
   "source": [
    "1. Download dataset [enwik8](http://mattmahoney.net/dc/enwik8.zip) of compressed Wikipedia articles and preprocess raw data with Perl script **main_.pl**. This script will clean all unnecessary symbols, make all words to lowercase, and produce only sentences with words. If you are Windows user, you can install [linux subsystem in windows](https://www.microsoft.com/en-us/p/ubuntu-1804-lts/9n9tngvndl3q?activetab=pivot:overviewtab) and run all these bash commands from ubuntu console (it was checked on the Windows and it works). Also, you can just download file from this [link](https://nla.skoltech.ru/homeworks/files/enwik8.txt).\n",
    "```\n",
    "wget http://mattmahoney.net/dc/enwik8.zip\n",
    "unzip enwik8.zip\n",
    "mkdir data\n",
    "perl main_.pl enwik8 > data/enwik8.txt\n",
    "```"
   ]
  },
  {
   "cell_type": "code",
   "execution_count": 2,
   "metadata": {},
   "outputs": [
    {
     "name": "stdout",
     "output_type": "stream",
     "text": [
      "--2019-12-01 22:57:35--  http://mattmahoney.net/dc/enwik8.zip\n",
      "Resolving mattmahoney.net (mattmahoney.net)... 67.195.197.75\n",
      "Connecting to mattmahoney.net (mattmahoney.net)|67.195.197.75|:80... connected.\n",
      "HTTP request sent, awaiting response... 200 OK\n",
      "Length: 36445475 (35M) [application/zip]\n",
      "Saving to: ‘enwik8.zip.1’\n",
      "\n",
      "enwik8.zip.1        100%[===================>]  34,76M   174KB/s    in 3m 35s  \n",
      "\n",
      "2019-12-01 23:01:11 (165 KB/s) - ‘enwik8.zip.1’ saved [36445475/36445475]\n",
      "\n"
     ]
    }
   ],
   "source": [
    "!wget http://mattmahoney.net/dc/enwik8.zip"
   ]
  },
  {
   "cell_type": "code",
   "execution_count": 3,
   "metadata": {},
   "outputs": [
    {
     "name": "stdout",
     "output_type": "stream",
     "text": [
      "Archive:  enwik8.zip\n",
      "replace enwik8? [y]es, [n]o, [A]ll, [N]one, [r]ename: ^C\n"
     ]
    }
   ],
   "source": [
    "!unzip enwik8.zip"
   ]
  },
  {
   "cell_type": "code",
   "execution_count": 9,
   "metadata": {},
   "outputs": [],
   "source": [
    "!perl main_.pl enwik8 > data/enwik8.txt"
   ]
  },
  {
   "cell_type": "code",
   "execution_count": 2,
   "metadata": {},
   "outputs": [],
   "source": [
    "# Load enwik 8\n",
    "\n",
    "import re\n",
    "file = open(\"data/enwik8.txt\", \"r\")\n",
    "doclist = [line for line in file]\n",
    "docstr = ''.join(doclist)\n",
    "sentences = re.split(r'[.!?]', docstr)\n",
    "sentences = [sentence.split() for sentence in sentences if len(sentence) > 1]"
   ]
  },
  {
   "cell_type": "code",
   "execution_count": 3,
   "metadata": {
    "scrolled": true
   },
   "outputs": [
    {
     "name": "stdout",
     "output_type": "stream",
     "text": [
      "['the', 'word', 'anarchy', 'as', 'most', 'anarchists', 'use', 'it', 'does', 'not', 'imply', 'chaos', 'nihilism', 'or', 'anomie', 'but', 'rather', 'a', 'harmonious', 'anti', 'authoritarian', 'society']\n"
     ]
    }
   ],
   "source": [
    "print (sentences[5])"
   ]
  },
  {
   "cell_type": "markdown",
   "metadata": {},
   "source": [
    "2. Construct the word vocabulary from the obtained sentences which enumerates words which occur more than $r=200$ times in the corpus."
   ]
  },
  {
   "cell_type": "code",
   "execution_count": 4,
   "metadata": {},
   "outputs": [],
   "source": [
    "from collections import Counter\n",
    "def create_vocabulary(sentences, r=3):\n",
    "    vocabulary = {}\n",
    "    \n",
    "    count = Counter()\n",
    "    for i in sentences:\n",
    "        count.update(i)\n",
    "    i = 0\n",
    "    for key, value in count.items():\n",
    "        if value>=r:\n",
    "            vocabulary[i] = key\n",
    "            i+=1\n",
    "    # Your code is here\n",
    "    return vocabulary"
   ]
  },
  {
   "cell_type": "code",
   "execution_count": 5,
   "metadata": {},
   "outputs": [],
   "source": [
    "vocab = create_vocabulary(sentences, 200)\n",
    "corpus_size = sum([len(i) for i in sentences])"
   ]
  },
  {
   "cell_type": "code",
   "execution_count": 6,
   "metadata": {},
   "outputs": [
    {
     "data": {
      "text/plain": [
       "5787"
      ]
     },
     "execution_count": 6,
     "metadata": {},
     "output_type": "execute_result"
    }
   ],
   "source": [
    "len(vocab)"
   ]
  },
  {
   "cell_type": "code",
   "execution_count": 7,
   "metadata": {},
   "outputs": [],
   "source": [
    "def vocab_inverse(vocab):\n",
    "    inverse_vocab = {}\n",
    "    for k, v in vocab.items():\n",
    "        inverse_vocab[v] = k\n",
    "    return inverse_vocab"
   ]
  },
  {
   "cell_type": "markdown",
   "metadata": {},
   "source": [
    "3. Scan the text corpus with sliding window of size $5$ and step $1$ (which corresponds to $L$=2) and construct co-occurrence word-context matrix $D$ with elements $D_{wc}=\\#(w,c)$. Please, ignore words which occur less than $r=200$ times, but include them into the sliding window. Please, see the graphical illustration of the procedure described."
   ]
  },
  {
   "cell_type": "markdown",
   "metadata": {},
   "source": [
    "![Sliding window](sliding_window.png)"
   ]
  },
  {
   "cell_type": "code",
   "execution_count": 8,
   "metadata": {},
   "outputs": [],
   "source": [
    "from tqdm import tqdm\n",
    "import scipy.sparse as scpsprs\n",
    "def create_corpus_matrix(sentences, vocabulary):\n",
    "    inv_voc =  vocab_inverse(vocabulary)\n",
    "    m = len(vocabulary)\n",
    "    corpus_matrix = scpsprs.lil_matrix((m,m))\n",
    "    for sentence in tqdm(sentences):\n",
    "        for i, w in enumerate(sentence):\n",
    "            context = sentence[i-2: i] + sentence[i+1: i+3] \n",
    "            for c in context:\n",
    "                if w in inv_voc.keys() and c in inv_voc.keys():\n",
    "                    corpus_matrix[inv_voc[w], inv_voc[c]] +=1\n",
    "    # Your code is here\n",
    "    return corpus_matrix"
   ]
  },
  {
   "cell_type": "code",
   "execution_count": 9,
   "metadata": {},
   "outputs": [
    {
     "name": "stderr",
     "output_type": "stream",
     "text": [
      "100%|██████████| 889156/889156 [09:01<00:00, 1641.94it/s]\n"
     ]
    }
   ],
   "source": [
    "D = create_corpus_matrix(sentences, vocab)"
   ]
  },
  {
   "cell_type": "code",
   "execution_count": 12,
   "metadata": {},
   "outputs": [
    {
     "data": {
      "text/plain": [
       "matrix([[1.2000e+01, 1.0000e+00, 2.1000e+01, ..., 0.0000e+00, 0.0000e+00,\n",
       "         0.0000e+00],\n",
       "        [0.0000e+00, 0.0000e+00, 4.2000e+01, ..., 0.0000e+00, 0.0000e+00,\n",
       "         0.0000e+00],\n",
       "        [2.0000e+01, 4.2000e+01, 1.3076e+04, ..., 2.0000e+00, 0.0000e+00,\n",
       "         7.0000e+00],\n",
       "        ...,\n",
       "        [0.0000e+00, 0.0000e+00, 2.0000e+00, ..., 0.0000e+00, 0.0000e+00,\n",
       "         0.0000e+00],\n",
       "        [0.0000e+00, 0.0000e+00, 0.0000e+00, ..., 0.0000e+00, 0.0000e+00,\n",
       "         0.0000e+00],\n",
       "        [0.0000e+00, 0.0000e+00, 7.0000e+00, ..., 0.0000e+00, 0.0000e+00,\n",
       "         4.0000e+00]])"
      ]
     },
     "execution_count": 12,
     "metadata": {},
     "output_type": "execute_result"
    }
   ],
   "source": [
    "D.todense()\n"
   ]
  },
  {
   "cell_type": "code",
   "execution_count": 13,
   "metadata": {},
   "outputs": [
    {
     "name": "stdout",
     "output_type": "stream",
     "text": [
      "[[   600.   1436. 315218. ...    547.    715.    729.]]\n",
      "[[   588.]\n",
      " [  1421.]\n",
      " [319433.]\n",
      " ...\n",
      " [   584.]\n",
      " [   715.]\n",
      " [   716.]]\n"
     ]
    }
   ],
   "source": [
    "print(D.sum(axis=0))\n",
    "print(D.sum(axis=1))"
   ]
  },
  {
   "cell_type": "markdown",
   "metadata": {},
   "source": [
    "4. To find good word embeddings, [Levy and Goldberg, 2015](http://papers.nips.cc/paper/5477-neural-word-embedding-as-implicit-matrix-factorization.pdf) proposed to find rank-$d$ SVD of Shifted Positive Pointwise Mutual Information (SPPMI) matrix\n",
    "\n",
    "$$ U \\Sigma V^\\top \\approx \\text{SPPMI}, $$\n",
    "\n",
    "where $\\text{SPPMI}(w, c) = \\max\\left(\\text{SPMI}(w, c), 0 \\right)$ and $\\text{SPMI}(w, c)$ is the element of the matrix $\\text{SPPMI}$ at position $(w, c)$.\n",
    "Then use $W=U\\sqrt{\\Sigma}$ as word embedding matrix. Your task is to reproduce their results. Write function constructs $\\text{SPPMI}$ matrix, computes its SVD and produces word-vectors matrix $W$. Pay attention that $\\text{SPPMI}$ matrix is **sparse**!  "
   ]
  },
  {
   "cell_type": "code",
   "execution_count": 10,
   "metadata": {},
   "outputs": [],
   "source": [
    "from scipy.sparse import csc_matrix\n",
    "from scipy.sparse.linalg import svds, eigs\n",
    "import numpy as np \n",
    "from tqdm import tqdm\n",
    "\n",
    "def compute_embeddings(D, k, d=200):\n",
    "    # Your code is here d - rank svd\n",
    "    arrW = D.sum(axis=0).squeeze()\n",
    "    arrC =D.sum(axis=1).squeeze()\n",
    "    arrC =  arrC.T\n",
    "    pmi = scpsprs.lil_matrix((D.shape[0], D.shape[1]))\n",
    "    for i, j in tqdm(zip(*D.nonzero())):\n",
    "        pmi[i,j] = max(np.log(D[i,j]*corpus_size/(arrW[0, i]*arrC[j, 0]*k)), 0)\n",
    "    u, s, vt = svds(pmi, k=d)\n",
    "    embedding_matrix = u*(s**0.5)\n",
    "    return embedding_matrix"
   ]
  },
  {
   "cell_type": "code",
   "execution_count": 11,
   "metadata": {},
   "outputs": [
    {
     "name": "stderr",
     "output_type": "stream",
     "text": [
      "3569602it [01:53, 31493.25it/s]\n"
     ]
    }
   ],
   "source": [
    "k = 5 # negative sampling parameter\n",
    "W = compute_embeddings(D, k)"
   ]
  },
  {
   "cell_type": "code",
   "execution_count": 12,
   "metadata": {},
   "outputs": [
    {
     "data": {
      "text/plain": [
       "array([[ 7.53793148e-02,  3.08829979e-02,  1.03500414e-01, ...,\n",
       "         4.93591408e-02,  2.03399419e-03,  1.50058992e-01],\n",
       "       [ 3.97708291e-03,  8.34391819e-03,  8.15918671e-03, ...,\n",
       "         1.18580346e-02, -3.74088034e-02,  8.11776086e-02],\n",
       "       [ 9.81458945e-05,  3.44160557e-04,  2.92972928e-04, ...,\n",
       "         1.57813291e-04, -2.82111628e-04,  6.35424526e-04],\n",
       "       ...,\n",
       "       [-6.19804325e-02,  3.46075594e-02,  1.59183066e-02, ...,\n",
       "        -8.56398909e-03,  8.18098543e-02,  1.92083208e-01],\n",
       "       [ 5.86411423e-03,  1.64804578e-02, -1.55318223e-02, ...,\n",
       "        -2.68393031e-03, -8.65714253e-03,  5.43792568e-03],\n",
       "       [ 3.30361247e-02,  1.07981063e-02, -5.65321156e-02, ...,\n",
       "        -3.97336272e-02,  5.16644611e-03,  8.35298031e-02]])"
      ]
     },
     "execution_count": 12,
     "metadata": {},
     "output_type": "execute_result"
    }
   ],
   "source": [
    "W"
   ]
  },
  {
   "cell_type": "code",
   "execution_count": null,
   "metadata": {},
   "outputs": [],
   "source": []
  },
  {
   "cell_type": "markdown",
   "metadata": {},
   "source": [
    "5. Write class **WordVectors** using provided template."
   ]
  },
  {
   "cell_type": "code",
   "execution_count": 21,
   "metadata": {},
   "outputs": [],
   "source": [
    "from sklearn.neighbors import NearestNeighbors\n",
    "class WordVectors:\n",
    "    \n",
    "    def __init__(self, vocabulary, embedding_matrix):\n",
    "        self.vocab = vocabulary\n",
    "        self.W = embedding_matrix\n",
    "        self.inv_vocab = {v: k for k, v in self.vocab.items()}\n",
    "        \n",
    "    def word_vector(self, word):\n",
    "#         inv_voc =  vocab_inverse(vocab)\n",
    "        index = self.inv_vocab[word]\n",
    "        word_vector = self.W[index]\n",
    "        \"\"\" \n",
    "        Takes word and returns its word vector.\n",
    "        \"\"\"\n",
    "#         Your code is here\n",
    "        return word_vector\n",
    "    \n",
    "    def nearest_words(self, word, top_n=10):\n",
    "        self.nbrs = NearestNeighbors(n_neighbors=top_n, metric='cosine').fit(self.W)\n",
    "        \n",
    "        dist,indexes = self.nbrs.kneighbors(self.word_vector(word).reshape(1,-1))\n",
    "#         print(indexes,indexes.shape)\n",
    "        neighbors= [self.vocab[i] for i in indexes[0]]\n",
    "        \n",
    "        \"\"\" \n",
    "        Takes word from the vocabulary and returns its top_n\n",
    "        nearest neighbors in terms of cosine similarity.\n",
    "        \"\"\"\n",
    "#         Your code is here\n",
    "        return neighbors, 1-dist"
   ]
  },
  {
   "cell_type": "code",
   "execution_count": 22,
   "metadata": {},
   "outputs": [],
   "source": [
    "model = WordVectors(vocab, W)"
   ]
  },
  {
   "cell_type": "code",
   "execution_count": 23,
   "metadata": {},
   "outputs": [
    {
     "data": {
      "text/plain": [
       "(['you', 'we', 'know', 'want', 'if', 'me', 'i', 'don', 'll', 'doesn'],\n",
       " array([[1.        , 0.93545924, 0.91205415, 0.90946496, 0.86999466,\n",
       "         0.83589717, 0.81267483, 0.79327129, 0.77845627, 0.77473633]]))"
      ]
     },
     "execution_count": 23,
     "metadata": {},
     "output_type": "execute_result"
    }
   ],
   "source": [
    "model.nearest_words(\"you\")"
   ]
  },
  {
   "cell_type": "code",
   "execution_count": 24,
   "metadata": {},
   "outputs": [
    {
     "data": {
      "text/plain": [
       "(['ussr',\n",
       "  'ukraine',\n",
       "  'russia',\n",
       "  'belarus',\n",
       "  'romania',\n",
       "  'poland',\n",
       "  'serbia',\n",
       "  'hungary',\n",
       "  'yugoslavia',\n",
       "  'austria'],\n",
       " array([[1.        , 0.7685406 , 0.75627212, 0.73019573, 0.65785739,\n",
       "         0.64501111, 0.60368842, 0.60095237, 0.59062953, 0.56800549]]))"
      ]
     },
     "execution_count": 24,
     "metadata": {},
     "output_type": "execute_result"
    }
   ],
   "source": [
    "model.nearest_words(\"ussr\")"
   ]
  },
  {
   "cell_type": "code",
   "execution_count": 25,
   "metadata": {},
   "outputs": [
    {
     "data": {
      "text/plain": [
       "(['rap',\n",
       "  'hip',\n",
       "  'hop',\n",
       "  'music',\n",
       "  'rock',\n",
       "  'scene',\n",
       "  'funk',\n",
       "  'artists',\n",
       "  'punk',\n",
       "  'musicians'],\n",
       " array([[1.        , 0.83260938, 0.82651751, 0.77044788, 0.76055451,\n",
       "         0.75797174, 0.7469552 , 0.73301642, 0.70791394, 0.70396036]]))"
      ]
     },
     "execution_count": 25,
     "metadata": {},
     "output_type": "execute_result"
    }
   ],
   "source": [
    "model.nearest_words(\"rap\")"
   ]
  },
  {
   "cell_type": "markdown",
   "metadata": {},
   "source": [
    "6. Calculate top 10 nearest neighbours with the corresponding cosine similarities for the words {matrix, multiplication, algorithm} and print them below"
   ]
  },
  {
   "cell_type": "code",
   "execution_count": 26,
   "metadata": {},
   "outputs": [
    {
     "data": {
      "text/plain": [
       "(['matrix',\n",
       "  'multiplication',\n",
       "  'addition',\n",
       "  'dot',\n",
       "  'polynomial',\n",
       "  'algebraic',\n",
       "  'graph',\n",
       "  'representation',\n",
       "  'structure',\n",
       "  'numerical'],\n",
       " array([[1.        , 0.56241666, 0.50442406, 0.45828161, 0.39194179,\n",
       "         0.38351827, 0.37691123, 0.37650845, 0.36886499, 0.36551504]]))"
      ]
     },
     "execution_count": 26,
     "metadata": {},
     "output_type": "execute_result"
    }
   ],
   "source": [
    "model.nearest_words(\"matrix\")"
   ]
  },
  {
   "cell_type": "code",
   "execution_count": 27,
   "metadata": {},
   "outputs": [
    {
     "data": {
      "text/plain": [
       "(['multiplication',\n",
       "  'addition',\n",
       "  'polynomial',\n",
       "  'inverse',\n",
       "  'linear',\n",
       "  'functions',\n",
       "  'define',\n",
       "  'algebra',\n",
       "  'equations',\n",
       "  'equation'],\n",
       " array([[1.        , 0.89095321, 0.72952875, 0.70104619, 0.64540804,\n",
       "         0.62570757, 0.62179638, 0.61686511, 0.60574068, 0.57251178]]))"
      ]
     },
     "execution_count": 27,
     "metadata": {},
     "output_type": "execute_result"
    }
   ],
   "source": [
    "model.nearest_words('multiplication')"
   ]
  },
  {
   "cell_type": "code",
   "execution_count": 28,
   "metadata": {},
   "outputs": [
    {
     "data": {
      "text/plain": [
       "(['algorithm',\n",
       "  'algorithms',\n",
       "  'encryption',\n",
       "  'polynomial',\n",
       "  'coding',\n",
       "  'problem',\n",
       "  'key',\n",
       "  'graph',\n",
       "  'multiplication',\n",
       "  'cryptography'],\n",
       " array([[1.        , 0.79068677, 0.68165129, 0.64282101, 0.60637704,\n",
       "         0.58194043, 0.57180737, 0.56919047, 0.55102036, 0.54942607]]))"
      ]
     },
     "execution_count": 28,
     "metadata": {},
     "output_type": "execute_result"
    }
   ],
   "source": [
    "model.nearest_words('algorithm')"
   ]
  },
  {
   "cell_type": "markdown",
   "metadata": {},
   "source": [
    "# Problem 4 (eigenvalues)  45 pts\n",
    "\n",
    "### 1. Theoretical tasks (10 pts)\n",
    "\n",
    "* (5 pts) Prove that normal matrix is Hermitian iff its eigenvalues are real. Prove that normal matrix is unitary iff its eigenvalues satisfy $|\\lambda| = 1$. \n",
    "\n",
    "* (5 pts) The following problem illustrates instability of the Jordan form. Find theoretically the eigenvalues of the perturbed Jordan block:\n",
    "\n",
    "$$\n",
    "    J(\\varepsilon) = \n",
    "    \\begin{bmatrix} \n",
    "     \\lambda & 1 & & & 0 \\\\ \n",
    "     & \\lambda & 1 & & \\\\ \n",
    "     &  & \\ddots & \\ddots & \\\\ \n",
    "     & & & \\lambda & 1 \\\\ \n",
    "     \\varepsilon & & & & \\lambda  \\\\ \n",
    "    \\end{bmatrix}_{n\\times n}\n",
    "$$\n",
    "\n",
    "Comment how eigenvalues of $J(0)$ are perturbed for large $n$."
   ]
  },
  {
   "cell_type": "markdown",
   "metadata": {},
   "source": [
    "from the properties of the hermitian matrices we obtain $(Av,v) = (v,Av)$\n",
    "\n",
    "$(\\lambda v,v) = (v,\\lambda v)$\n",
    "\n",
    "$\\lambda( v,v) = \\lambda^* (v, v)$\n",
    "what leads to $\\lambda= \\lambda^* $. this could happen only if eigenvalues are real\n"
   ]
  },
  {
   "cell_type": "markdown",
   "metadata": {},
   "source": [
    "every normal matrix has diagonal Jordan form. So such a matrix can be introduced as product $A=CJC^*$. If we conjugate we get $A^*=CJ*C^*$ . As $J$is diagonal we get $A^*=A$"
   ]
  },
  {
   "cell_type": "markdown",
   "metadata": {},
   "source": [
    "let $A$ be the unitary matrix.\n",
    "we can write $(Av, Av)= (v, v)= (\\lambda v, \\lambda v) = \\lambda ^* \\lambda(v,v)$\n",
    "from this equality we can see that $ \\lambda ^* \\lambda = 1$ thus we obtain $ |\\lambda |= 1$\n",
    "\n",
    "\n",
    "also we can write $(v, v)= (\\lambda v, \\lambda v) = (Av, Av) =A^* A(v,v)$\n",
    "thus we obtain $A^*A =I$"
   ]
  },
  {
   "cell_type": "markdown",
   "metadata": {},
   "source": [
    "$(\\lambda -\\nu)^n +(-1)^{n-1}\\epsilon = 0$\n",
    "\n",
    "\n",
    "$\\lambda = \\nu + e^{\\frac{2\\pi i}{n}}\\epsilon^{\\frac{1}{n}}$\n",
    "\n",
    "\n",
    "it means that even if we have even small perturbation so all the eigenvalues become different and this is bad for stability of this jordan block"
   ]
  },
  {
   "cell_type": "code",
   "execution_count": null,
   "metadata": {},
   "outputs": [],
   "source": [
    "# Your solution is here"
   ]
  },
  {
   "cell_type": "markdown",
   "metadata": {},
   "source": [
    "### 2. PageRank\n",
    "\n",
    "\n",
    "#### Damping factor importance\n",
    "\n",
    "* (5 pts) Write the function ```pagerank_matrix(G)``` that takes an adjacency matrix $G$ (in both sparse and dense formats) as an input and outputs the corresponding PageRank matrix $A$."
   ]
  },
  {
   "cell_type": "code",
   "execution_count": 54,
   "metadata": {},
   "outputs": [],
   "source": [
    "# INPUT:  G - np.ndarray or sparse matrix\n",
    "# OUTPUT: A - np.ndarray (of size G.shape) or sparse matriximport scipy.sparse\n",
    "\n",
    "import scipy.sparse\n",
    "import numpy as np\n",
    "from scipy.sparse import csc_matrix\n",
    "from scipy.sparse.linalg import svds, eigs\n",
    "\n",
    "def pagerank_matrix(G):\n",
    "    if isinstance(G, np.ndarray):\n",
    "        summ = np.sum(G, axis=1)\n",
    "        G[summ==0, :] = 1\n",
    "        summ[summ==0] = G.shape[1]\n",
    "        A = G.T / summ\n",
    "    else:\n",
    "        summ = scipy.sparse.csr_matrix.sum(G, axis=1)\n",
    "#         print(summ==0)\n",
    "        summ = np.squeeze(np.asarray(summ.reshape(1,-1)))\n",
    "      \n",
    "#         summ1 = []\n",
    "#         for i in summ:\n",
    "#             summ1.append(i)\n",
    "#         print(summ.shape, len(summ1),type(summ))\n",
    "#         G[summ == 0, :] = 1\n",
    "        summ[summ == 0] = G.shape[1]\n",
    "    \n",
    "#         summ1 = np.array(summ1)\n",
    "        multipliers = np.array([1/sum_i for sum_i in summ])\n",
    "        multipliers = scipy.sparse.csr_matrix(multipliers, dtype='float') \n",
    "        A = G.T.multiply(multipliers)\n",
    "    # enter your code here\n",
    "    return A\n",
    "   "
   ]
  },
  {
   "cell_type": "code",
   "execution_count": 18,
   "metadata": {},
   "outputs": [
    {
     "name": "stdout",
     "output_type": "stream",
     "text": [
      "[False False False ... False  True  True]\n"
     ]
    }
   ],
   "source": [
    "A =  pagerank_matrix(G)"
   ]
  },
  {
   "cell_type": "markdown",
   "metadata": {},
   "source": [
    "* (3 pts) Find PageRank matrix $A$ that corresponds to the following graph: \n",
    "What is its largest eigenvalue? What multiplicity does it have?\n"
   ]
  },
  {
   "cell_type": "code",
   "execution_count": 55,
   "metadata": {},
   "outputs": [],
   "source": [
    "G = np.array([[0,1,0,0,0],[0,0,1,0,0],[1,1,0,0,0],[0,0,0,0,1],[0,0,0,1,0]])\n",
    "w,v= np.linalg.eig(pagerank_matrix(G))"
   ]
  },
  {
   "cell_type": "code",
   "execution_count": 56,
   "metadata": {},
   "outputs": [
    {
     "name": "stdout",
     "output_type": "stream",
     "text": [
      "[-0.66235898+0.56227951j -0.66235898-0.56227951j  1.32471796+0.j\n",
      "  1.        +0.j         -1.        +0.j        ]\n"
     ]
    }
   ],
   "source": [
    "w,v= np.linalg.eig(G)\n",
    "print(w)"
   ]
  },
  {
   "cell_type": "code",
   "execution_count": 57,
   "metadata": {},
   "outputs": [
    {
     "name": "stdout",
     "output_type": "stream",
     "text": [
      "[-0.66235898+0.56227951j -0.66235898-0.56227951j  1.32471796+0.j\n",
      "  1.        +0.j         -1.        +0.j        ]\n",
      "[[ 0.66+0.j    0.66-0.j   -0.41+0.j    0.  +0.j    0.  +0.j  ]\n",
      " [-0.43+0.37j -0.43-0.37j -0.55+0.j    0.  +0.j    0.  +0.j  ]\n",
      " [ 0.08-0.49j  0.08+0.49j -0.73+0.j    0.  +0.j    0.  +0.j  ]\n",
      " [ 0.  +0.j    0.  -0.j    0.  +0.j    0.71+0.j   -0.71+0.j  ]\n",
      " [ 0.  +0.j    0.  -0.j    0.  +0.j    0.71+0.j    0.71+0.j  ]]\n"
     ]
    }
   ],
   "source": [
    "print(w)\n",
    "print(v.round(2))"
   ]
  },
  {
   "cell_type": "code",
   "execution_count": 63,
   "metadata": {},
   "outputs": [],
   "source": [
    "def qr_alg(A):\n",
    "    for i in range(2000):\n",
    "        q,r = np.linalg.qr(A)\n",
    "        A = r@q\n",
    "    print(q.round(2))\n",
    "    return ((q.conjugate())@A@q).round(2)"
   ]
  },
  {
   "cell_type": "code",
   "execution_count": 58,
   "metadata": {},
   "outputs": [
    {
     "data": {
      "text/plain": [
       "array([[0. , 0. , 0.5, 0. , 0. ],\n",
       "       [1. , 0. , 0.5, 0. , 0. ],\n",
       "       [0. , 1. , 0. , 0. , 0. ],\n",
       "       [0. , 0. , 0. , 0. , 1. ],\n",
       "       [0. , 0. , 0. , 1. , 0. ]])"
      ]
     },
     "execution_count": 58,
     "metadata": {},
     "output_type": "execute_result"
    }
   ],
   "source": [
    "pagerank_matrix(G)"
   ]
  },
  {
   "cell_type": "markdown",
   "metadata": {},
   "source": [
    "so here we can see that the largest eigenvalue is 1 and it's multiplicity is 2. "
   ]
  },
  {
   "cell_type": "markdown",
   "metadata": {},
   "source": [
    "\n",
    "\n",
    "* (5 pts) Implement the power method for a given matrix $A$, an initial guess $x_0$ and a number of iterations ```num_iter```. It should be organized as a function ```power_method(A, x0, num_iter)``` that outputs approximation to eigenvector $x$, eigenvalue $\\lambda$ and history of residuals $\\{\\|Ax_k - \\lambda_k x_k\\|_2\\}$. Make sure that the method converges to the correct solution on a matrix $\\begin{bmatrix} 2 & -1 \\\\ -1 & 2 \\end{bmatrix}$ which is known to have the largest eigenvalue equal to $3$."
   ]
  },
  {
   "cell_type": "code",
   "execution_count": 78,
   "metadata": {},
   "outputs": [],
   "source": [
    "import numpy as np\n",
    "from tqdm import tqdm\n",
    "# INPUT:  A - np.ndarray (2D), x0 - np.ndarray (1D), num_iter - integer (positive) \n",
    "# OUTPUT: x - np.ndarray (of size x0), l - float, res - np.ndarray (of size num_iter + 1 [include initial guess])\n",
    "def power_method(A, x0, num_iter): # 5 pts7\n",
    "#     # enter your code here\n",
    "\n",
    "    x0= x0/np.linalg.norm(x0)\n",
    "    x = A@x0\n",
    "#     x= x/np.linalg.norm(x)\n",
    "    res = []\n",
    "#     res.append(x0)\n",
    "    res.append(np.linalg.norm(A@x0-np.dot(A@x0, x0)*x0))\n",
    "#     x= x0\n",
    "    \n",
    "#     x= x/np.linalg.norm(x)\n",
    "    for i in tqdm(range(num_iter)):\n",
    "\n",
    "        x = A@x\n",
    "        x= x/np.linalg.norm(x)\n",
    "        res.append(np.linalg.norm(A@x-np.dot(A@x, x)*x, 2))\n",
    "\n",
    "    l = np.dot(A@x, x)\n",
    "\n",
    "    return x, l, res"
   ]
  },
  {
   "cell_type": "code",
   "execution_count": 60,
   "metadata": {},
   "outputs": [],
   "source": [
    "def power_method_improved(A, x0, num_iter):\n",
    "    \n",
    "    x0= x0/np.linalg.norm(x0)\n",
    "    x = A@x0\n",
    "#     x= x/np.linalg.norm(x)\n",
    "    res = []\n",
    "#     res.append(x0)\n",
    "    res.append(np.linalg.norm(A@x0-np.dot(A@x0, x0)*x0))\n",
    "#     x= x0\n",
    "    \n",
    "#     x= x/np.linalg.norm(x)\n",
    "    for i in range(num_iter):\n",
    "\n",
    "        x = A@x\n",
    "        x= x/np.linalg.norm(x)\n",
    "        res.append(np.linalg.norm(A@x-np.dot(A@x, x)*x, 2))\n",
    "\n",
    "    l = np.dot(A@x, x)\n",
    "    B = A - l * np.outer(A@x, A@x)/np.dot(A@x, A@x)\n",
    "    x = B@x\n",
    "    \n",
    "    for i in range(num_iter):\n",
    "        x = B@x\n",
    "        x= x/np.linalg.norm(x)\n",
    "    l2 = np.dot(B@x, x)\n",
    "    return l, l2"
   ]
  },
  {
   "cell_type": "code",
   "execution_count": 108,
   "metadata": {},
   "outputs": [
    {
     "name": "stdout",
     "output_type": "stream",
     "text": [
      "2.999999999936267\n"
     ]
    }
   ],
   "source": [
    "\n",
    "A = np.array([[2,-1],[-1,2]])\n",
    "x, l, res = power_method(A, np.array([1,0]), 10)\n",
    "print(l)"
   ]
  },
  {
   "cell_type": "code",
   "execution_count": 41,
   "metadata": {},
   "outputs": [],
   "source": [
    "x= np.random.rand(5)\n",
    "# x = np.array([1,0,0,0,0])\n",
    "n = 100\n",
    "x,l, res = power_method(pagerank_matrix(G), x, n)\n"
   ]
  },
  {
   "cell_type": "code",
   "execution_count": 42,
   "metadata": {},
   "outputs": [
    {
     "data": {
      "image/png": "[encoded data removed]",
      "text/plain": [
       "<Figure size 648x432 with 1 Axes>"
      ]
     },
     "metadata": {
      "needs_background": "light"
     },
     "output_type": "display_data"
    }
   ],
   "source": [
    "import matplotlib.pyplot as plt\n",
    "%matplotlib inline\n",
    "\n",
    "    \n",
    "plt.figure(figsize=(9, 6))\n",
    "\n",
    "plt.semilogy(res[:])\n",
    "\n",
    "plt.ylabel(r\"$norm$\", fontsize=24)\n",
    "plt.xlabel(r\"iterations, $i$\", fontsize=24)\n",
    "\n",
    "\n",
    "plt.grid(True)\n",
    "plt.xticks(fontsize=18)\n",
    "_ = plt.yticks(fontsize=18)"
   ]
  },
  {
   "cell_type": "markdown",
   "metadata": {},
   "source": [
    "* (2 pts) Run the power method for the graph presented above and plot residuals $\\|Ax_k - \\lambda_k x_k\\|_2$ as a function of $k$ for ```num_iter=100``` and random initial guess ```x0```.  Explain the absence of convergence. \n"
   ]
  },
  {
   "cell_type": "markdown",
   "metadata": {},
   "source": [
    "In firstcase we should have got the case where method doesn't cnverge . this is because the relation of two first eigenvalues equals to 1 andthis is the condition of when the method doesn't converge"
   ]
  },
  {
   "cell_type": "code",
   "execution_count": 111,
   "metadata": {},
   "outputs": [
    {
     "data": {
      "image/png": "[encoded data removed]",
      "text/plain": [
       "<Figure size 648x432 with 1 Axes>"
      ]
     },
     "metadata": {
      "needs_background": "light"
     },
     "output_type": "display_data"
    }
   ],
   "source": [
    "G_removed = np.array([[0,1,0,0,0],[0,0,1,0,0],[1,1,0,0,0],[0,0,0,0,0],[0,0,0,1,0]])\n",
    "x= np.random.rand(5)\n",
    "n = 100\n",
    "x,l, res = power_method(pagerank_matrix(G_removed), x, n)\n",
    "\n",
    "\n",
    "    \n",
    "plt.figure(figsize=(9, 6))\n",
    "\n",
    "\n",
    "plt.semilogy(res[1:])\n",
    "\n",
    "plt.ylabel(r\"$norm$\", fontsize=24)\n",
    "plt.xlabel(r\"iterations, $i$\", fontsize=24)\n",
    "\n",
    "\n",
    "plt.grid(True)data:image/png;base64,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\n",
    "plt.xticks(fontsize=18)\n",
    "_ = plt.yticks(fontsize=18)"
   ]
  },
  {
   "cell_type": "markdown",
   "metadata": {},
   "source": [
    "\n",
    "\n",
    "* (2 pts) Consider the same graph, but with a directed edge that goes from the node 3 to the node 4 being removed. Plot residuals as in the previous task and discuss the convergence. Now, run the power method with ```num_iter=100``` for 10 different initial guesses and print/plot the resulting approximated eigenvectors. Why do they depend on the initial guess?"
   ]
  },
  {
   "cell_type": "markdown",
   "metadata": {},
   "source": [
    "\n",
    "In the second case the method should converge because of the relation of two first eigen values is small enough.\n"
   ]
  },
  {
   "cell_type": "markdown",
   "metadata": {},
   "source": [
    "\n",
    "\n",
    "\n",
    "In order to avoid this problem Larry Page and Sergey Brin [proposed](http://ilpubs.stanford.edu:8090/422/1/1999-66.pdf) to use the following regularization technique:\n",
    "\n",
    "$$\n",
    "A_d = dA + \\frac{1-d}{N} \\begin{pmatrix} 1 & \\dots & 1 \\\\ \\vdots & & \\vdots \\\\ 1 & \\dots & 1 \\end{pmatrix},\n",
    "$$\n",
    "\n",
    "where $d$ is a small parameter in $[0,1]$ (typically $d=0.85$), which is called **damping factor**, $A$ is of size $N\\times N$. Now $A_d$ is the matrix with multiplicity of the largest eigenvalue equal to 1. \n",
    "Recall that computing the eigenvector of the PageRank matrix, which corresponds to the largest eigenvalue, has the following interpretation. Consider a person who stays in a random node of a graph (i.e. opens a random web page); at each step s/he follows one of the outcoming edges uniformly at random (i.e. opens one of the links). So the person randomly walks through the graph and the eigenvector we are looking for is exactly his/her stationary distribution â€” for each node it tells you the probability of visiting this particular node. Therefore, if the person has started from a part of the graph which is not connected with the other part, he will never get there.  In the regularized model, the person at each step follows one of the outcoming links with probability $d$ OR teleports to a random node from the whole graph with probability $(1-d)$.\n",
    "\n",
    "* (2 pts) Now, run the power method with $A_d$ and plot residuals $\\|A_d x_k - \\lambda_k x_k\\|_2$ as a function of $k$ for $d=0.85$, ```num_iter=100``` and a random initial guess ```x0```.\n",
    "\n",
    "* (5 pts) Find the second largest in the absolute value eigenvalue of the obtained matrix $A_d$. How and why is it connected to the damping factor $d$? What is the convergence rate of the PageRank algorithm when using damping factor?\n",
    "\n",
    "Usually, graphs that arise in various areas are sparse (social, web, road networks, etc.) and, thus, computation of a matrix-vector product for corresponding PageRank matrix $A$ is much cheaper than $\\mathcal{O}(N^2)$. However, if $A_d$ is calculated directly, it becomes dense and, therefore, $\\mathcal{O}(N^2)$ cost grows prohibitively large for  big $N$.\n",
    "\n",
    "\n",
    "* (2 pts) Implement fast matrix-vector product for $A_d$ as a function ```pagerank_matvec(A, d, x)```, which takes a PageRank matrix $A$ (in sparse format, e.g., ```csr_matrix```), damping factor $d$ and a vector $x$ as an input and returns $A_dx$ as an output. \n",
    "\n",
    "* (1 pts) Generate a random adjacency matrix of size $10000 \\times 10000$ with only 100 non-zero elements and compare ```pagerank_matvec``` performance with direct evaluation of $A_dx$."
   ]
  },
  {
   "cell_type": "code",
   "execution_count": 43,
   "metadata": {},
   "outputs": [
    {
     "data": {
      "image/png": "[encoded data removed]",
      "text/plain": [
       "<Figure size 648x432 with 1 Axes>"
      ]
     },
     "metadata": {
      "needs_background": "light"
     },
     "output_type": "display_data"
    }
   ],
   "source": [
    "G = np.array([[0,1,0,0,0],[0,0,1,0,0],[1,1,0,0,0],[0,0,0,0,1],[0,0,0,1,0]])\n",
    "G= pagerank_matrix(G)\n",
    "d= 0.85\n",
    "n=5\n",
    "A= d*G+(1-d)/n*np.ones((n,n))\n",
    "x= np.array([1,0,0,0,0])\n",
    "n_iter = 100\n",
    "x,l, res = power_method(A, x, n_iter)\n",
    "  \n",
    "plt.figure(figsize=(9, 6))\n",
    "\n",
    "\n",
    "plt.semilogy(res)\n",
    "\n",
    "plt.ylabel(r\"$norm$\", fontsize=24)\n",
    "plt.xlabel(r\"iterations, $i$\", fontsize=24)\n",
    "\n",
    "\n",
    "plt.grid(True)\n",
    "plt.xticks(fontsize=18)\n",
    "_ = plt.yticks(fontsize=18)"
   ]
  },
  {
   "cell_type": "code",
   "execution_count": 44,
   "metadata": {},
   "outputs": [
    {
     "name": "stdout",
     "output_type": "stream",
     "text": [
      "[[-1.    0.    0.    0.    0.  ]\n",
      " [-0.   -0.65 -0.76 -0.    0.  ]\n",
      " [ 0.    0.76 -0.65  0.    0.  ]\n",
      " [-0.    0.   -0.   -0.33 -0.94]\n",
      " [-0.    0.    0.   -0.94  0.33]]\n",
      "[[ 1.    0.    0.   -0.24  0.07]\n",
      " [ 0.    0.55  0.64  0.17 -0.07]\n",
      " [-0.    0.64 -0.55 -0.08  0.03]\n",
      " [ 0.    0.    0.   -0.23  0.33]\n",
      " [ 0.    0.   -0.   -0.66 -0.62]]\n"
     ]
    }
   ],
   "source": [
    "print(qr_alg(A))"
   ]
  },
  {
   "cell_type": "code",
   "execution_count": 62,
   "metadata": {},
   "outputs": [
    {
     "name": "stdout",
     "output_type": "stream",
     "text": [
      "(1.000000000100137, 0.849999999841662)\n"
     ]
    }
   ],
   "source": [
    "d= 0.85\n",
    "n=5\n",
    "A= d*G+(1-d)/n*np.ones((n,n))\n",
    "x= np.random.rand(5)\n",
    "n_iter = 100\n",
    "print(power_method_improved(A,x, n_iter))"
   ]
  },
  {
   "cell_type": "code",
   "execution_count": 65,
   "metadata": {},
   "outputs": [
    {
     "name": "stdout",
     "output_type": "stream",
     "text": [
      "(0.9999999996943572, 0.8500000003056427)\n"
     ]
    }
   ],
   "source": [
    "d= 0.85\n",
    "n=5\n",
    "A= d*G+(1-d)/n*np.ones((n,n))\n",
    "x= np.array([1,0,0,0,0])\n",
    "n_iter = 100\n",
    "print(power_method_improved(A,x, n_iter))"
   ]
  },
  {
   "cell_type": "markdown",
   "metadata": {},
   "source": [
    "using this regularization we got smoother convergence. the second large eigen value equals to d because the rate of convergency equals to the relation $\\lambda_2/\\lambda_1$ as we have $\\lambda_1 = 1$ we get the relation $d/1$"
   ]
  },
  {
   "cell_type": "code",
   "execution_count": 45,
   "metadata": {},
   "outputs": [
    {
     "name": "stdout",
     "output_type": "stream",
     "text": [
      "[-0.425+0.425j -0.425-0.425j  1.   +0.j     0.85 +0.j    -0.85 +0.j   ]\n"
     ]
    }
   ],
   "source": [
    "w, v = np.linalg.eig(A)\n",
    "print(w.round(3))"
   ]
  },
  {
   "cell_type": "code",
   "execution_count": 66,
   "metadata": {},
   "outputs": [],
   "source": [
    "# INPUT:  A - np.ndarray (2D), d - float (from 0.0 to 1.0), x - np.ndarray (1D, size of A.shape[0/1])\n",
    "# OUTPUT: y - np.ndarray (1D, size of x)\n",
    "def pagerank_matvec(A, d, x): # 2 pts\n",
    "    d = 0.85\n",
    "    ones= scipy.sparse.csr_matrix(A.shape)\n",
    "    Ad = A.multiply(d)+ones.multiply((1-d)/A.shape[0])\n",
    "#     Ar = pagerank_matrix(A)\n",
    "    y= Ad.dot(x)\n",
    "    \n",
    "    \n",
    "    # enter your code here\n",
    "    return y"
   ]
  },
  {
   "cell_type": "markdown",
   "metadata": {},
   "source": [
    "#### DBLP: computer science bibliography\n",
    "\n",
    "Download the dataset from [here](https://goo.gl/oZVxEa), unzip it and put `dblp_authors.npz`  and `dblp_graph.npz` in the same folder with this notebook. Each value (author name) from `dblp_authors.npz` corresponds to the row/column of the matrix from `dblp_graph.npz`. Value at row `i` and column `j` of the matrix from `dblp_graph.npz` corresponds to the number of times author `i` cited papers of the author `j`. Let us now find the most significant scientists according to PageRank model over DBLP data.\n",
    "\n",
    "* (4 pts) Load the weighted adjacency matrix and the authors list into Python using ```load_dblp(...)``` function. Print its density (fraction of nonzero elements). Find top-10 most cited authors from the weighted adjacency matrix. Now, make all the weights of the adjacency matrix equal to 1 for simplicity (consider only existence of connection between authors, not its weight). Obtain the PageRank matrix $A$ from the adjacency matrix and verify that it is stochastic.\n",
    " \n",
    " \n",
    "* (1 pts) In order to provide ```pagerank_matvec``` to your ```power_method``` (without rewriting it) for fast calculation of $A_dx$, you can create a ```LinearOperator```: \n",
    "```python\n",
    "L = scipy.sparse.linalg.LinearOperator(A.shape, matvec=lambda x, A=A, d=d: pagerank_matvec(A, d, x))\n",
    "```\n",
    "Calling ```L@x``` or ```L.dot(x)``` will result in calculation of ```pagerank_matvec(A, d, x)``` and, thus, you can plug $L$ instead of the matrix $A$ in the ```power_method``` directly. **Note:** though in the previous subtask graph was very small (so you could disparage fast matvec implementation), here it is very large (but sparse), so that direct evaluation of $A_dx$ will require $\\sim 10^{12}$ matrix elements to store - good luck with that (^_<).\n",
    "\n",
    "\n",
    "* (2 pts) Run the power method starting from the vector of all ones and plot residuals $\\|A_dx_k - \\lambda_k x_k\\|_2$  as a function of $k$ for $d=0.85$.\n",
    "\n",
    "\n",
    "* (1 pts) Print names of the top-10 authors according to PageRank over DBLP when $d=0.85$. Comment on your findings."
   ]
  },
  {
   "cell_type": "code",
   "execution_count": 69,
   "metadata": {},
   "outputs": [],
   "source": [
    "from scipy.sparse import load_npz\n",
    "import numpy as np\n",
    "def load_dblp(path_auth, path_graph):\n",
    "    G = load_npz(path_graph).astype(float)\n",
    "    with np.load(path_auth) as data: authors = data['authors']\n",
    "    return G, authors\n",
    "G, authors = load_dblp('dblp_authors.npz', 'dblp_graph.npz')"
   ]
  },
  {
   "cell_type": "code",
   "execution_count": 70,
   "metadata": {},
   "outputs": [
    {
     "data": {
      "text/plain": [
       "4.4986518152305776e-05"
      ]
     },
     "execution_count": 70,
     "metadata": {},
     "output_type": "execute_result"
    }
   ],
   "source": [
    "density = G.nnz/(G.shape[0]*G.shape[1])\n",
    "density"
   ]
  },
  {
   "cell_type": "code",
   "execution_count": 71,
   "metadata": {},
   "outputs": [
    {
     "name": "stdout",
     "output_type": "stream",
     "text": [
      "(1766547, 1766547) (1766547,)\n",
      "[[883273 884936 884937 884939 884941 884942 884943 884946 884950 884954]]\n",
      "[[1391413  101227  563408  720105  108524  293002  732480  633904  334688\n",
      "   335649]]\n",
      "[['Scott Shenker' 'Andrew Zisserman' 'Hari Balakrishnan' 'Jiawei Han'\n",
      "  'Anil K. Jain' 'Cordelia Schmid' 'Jitendra Malik' 'Ion Stoica'\n",
      "  'David E. Culler' 'David G. Lowe']] [[[119853. 118558. 117253. 116708. 113874. 102996. 101657.  98017.\n",
      "    95762.  93678.]]]\n"
     ]
    }
   ],
   "source": [
    "print(G.shape, authors.shape)\n",
    "print(np.argsort(G.sum(axis=0))[:, :10])\n",
    "\n",
    "print (np.argsort(G.sum(axis=0))[0, ::-1][:,:10])\n",
    "for i in np.argsort(G.sum(axis=0))[0, ::-1][:,:10]:\n",
    "    print(authors[i], G.sum(axis=0)[::-1][:,i])"
   ]
  },
  {
   "cell_type": "markdown",
   "metadata": {},
   "source": [
    "due to definition of the pageRank matrix it should be stohastic"
   ]
  },
  {
   "cell_type": "code",
   "execution_count": 73,
   "metadata": {},
   "outputs": [],
   "source": [
    "G[G!=0]=1"
   ]
  },
  {
   "cell_type": "code",
   "execution_count": 81,
   "metadata": {},
   "outputs": [],
   "source": [
    "d = 0.85\n",
    "G1 = pagerank_matrix(G)\n",
    "L = scipy.sparse.linalg.LinearOperator(G1.shape, matvec=lambda x, A=G1, d=d: pagerank_matvec(A, d, x))"
   ]
  },
  {
   "cell_type": "code",
   "execution_count": 82,
   "metadata": {},
   "outputs": [
    {
     "name": "stderr",
     "output_type": "stream",
     "text": [
      "\n",
      "  0%|                                                                                          | 0/100 [00:00<?, ?it/s]\n",
      "  1%|▊                                                                                 | 1/100 [00:06<11:32,  7.00s/it]\n",
      "  2%|█▋                                                                                | 2/100 [00:13<11:21,  6.96s/it]\n",
      "  3%|██▍                                                                               | 3/100 [00:20<11:13,  6.94s/it]\n",
      "  4%|███▎                                                                              | 4/100 [00:27<11:05,  6.93s/it]\n",
      "  5%|████                                                                              | 5/100 [00:34<11:01,  6.96s/it]\n",
      "  6%|████▉                                                                             | 6/100 [00:41<10:55,  6.97s/it]\n",
      "  7%|█████▋                                                                            | 7/100 [00:48<10:46,  6.95s/it]\n",
      "  8%|██████▌                                                                           | 8/100 [00:55<10:38,  6.93s/it]\n",
      "  9%|███████▍                                                                          | 9/100 [01:02<10:29,  6.92s/it]\n",
      " 10%|████████                                                                         | 10/100 [01:09<10:21,  6.91s/it]\n",
      " 11%|████████▉                                                                        | 11/100 [01:16<10:14,  6.90s/it]\n",
      " 12%|█████████▋                                                                       | 12/100 [01:23<10:07,  6.90s/it]\n",
      " 13%|██████████▌                                                                      | 13/100 [01:29<10:00,  6.90s/it]\n",
      " 14%|███████████▎                                                                     | 14/100 [01:36<09:53,  6.91s/it]\n",
      " 15%|████████████▏                                                                    | 15/100 [01:43<09:51,  6.95s/it]\n",
      " 16%|████████████▉                                                                    | 16/100 [01:50<09:42,  6.94s/it]\n",
      " 17%|█████████████▊                                                                   | 17/100 [01:57<09:35,  6.93s/it]\n",
      " 18%|██████████████▌                                                                  | 18/100 [02:04<09:28,  6.93s/it]\n",
      " 19%|███████████████▍                                                                 | 19/100 [02:11<09:20,  6.92s/it]\n",
      " 20%|████████████████▏                                                                | 20/100 [02:18<09:12,  6.91s/it]\n",
      " 21%|█████████████████                                                                | 21/100 [02:25<09:05,  6.90s/it]\n",
      " 22%|█████████████████▊                                                               | 22/100 [02:32<08:57,  6.89s/it]\n",
      " 23%|██████████████████▋                                                              | 23/100 [02:39<08:50,  6.89s/it]\n",
      " 24%|███████████████████▍                                                             | 24/100 [02:46<08:45,  6.92s/it]\n",
      " 25%|████████████████████▎                                                            | 25/100 [02:53<08:39,  6.93s/it]\n",
      " 26%|█████████████████████                                                            | 26/100 [02:59<08:32,  6.92s/it]\n",
      " 27%|█████████████████████▊                                                           | 27/100 [03:06<08:24,  6.91s/it]\n",
      " 28%|██████████████████████▋                                                          | 28/100 [03:13<08:17,  6.91s/it]\n",
      " 29%|███████████████████████▍                                                         | 29/100 [03:20<08:11,  6.92s/it]\n",
      " 30%|████████████████████████▎                                                        | 30/100 [03:27<08:07,  6.97s/it]\n",
      " 31%|█████████████████████████                                                        | 31/100 [03:34<08:00,  6.96s/it]\n",
      " 32%|█████████████████████████▉                                                       | 32/100 [03:41<07:52,  6.95s/it]\n",
      " 33%|██████████████████████████▋                                                      | 33/100 [03:48<07:44,  6.93s/it]\n",
      " 34%|███████████████████████████▌                                                     | 34/100 [03:55<07:39,  6.96s/it]\n",
      " 35%|████████████████████████████▎                                                    | 35/100 [04:02<07:30,  6.94s/it]\n",
      " 36%|█████████████████████████████▏                                                   | 36/100 [04:09<07:23,  6.93s/it]\n",
      " 37%|█████████████████████████████▉                                                   | 37/100 [04:16<07:16,  6.93s/it]\n",
      " 38%|██████████████████████████████▊                                                  | 38/100 [04:23<07:08,  6.92s/it]\n",
      " 39%|███████████████████████████████▌                                                 | 39/100 [04:30<07:01,  6.91s/it]\n",
      " 40%|████████████████████████████████▍                                                | 40/100 [04:36<06:54,  6.91s/it]\n",
      " 41%|█████████████████████████████████▏                                               | 41/100 [04:43<06:48,  6.92s/it]\n",
      " 42%|██████████████████████████████████                                               | 42/100 [04:50<06:42,  6.94s/it]\n",
      " 43%|██████████████████████████████████▊                                              | 43/100 [04:57<06:37,  6.97s/it]\n",
      " 44%|███████████████████████████████████▋                                             | 44/100 [05:04<06:30,  6.98s/it]\n",
      " 45%|████████████████████████████████████▍                                            | 45/100 [05:11<06:23,  6.97s/it]\n",
      " 46%|█████████████████████████████████████▎                                           | 46/100 [05:18<06:16,  6.97s/it]\n",
      " 47%|██████████████████████████████████████                                           | 47/100 [05:25<06:08,  6.96s/it]\n",
      " 48%|██████████████████████████████████████▉                                          | 48/100 [05:32<06:00,  6.94s/it]\n",
      " 49%|███████████████████████████████████████▋                                         | 49/100 [05:39<05:53,  6.93s/it]\n",
      " 50%|████████████████████████████████████████▌                                        | 50/100 [05:46<05:46,  6.94s/it]\n",
      " 51%|█████████████████████████████████████████▎                                       | 51/100 [05:53<05:39,  6.94s/it]\n",
      " 52%|██████████████████████████████████████████                                       | 52/100 [06:00<05:32,  6.93s/it]\n",
      " 53%|██████████████████████████████████████████▉                                      | 53/100 [06:07<05:27,  6.96s/it]\n",
      " 54%|███████████████████████████████████████████▋                                     | 54/100 [06:14<05:19,  6.94s/it]\n",
      " 55%|████████████████████████████████████████████▌                                    | 55/100 [06:21<05:12,  6.93s/it]\n",
      " 56%|█████████████████████████████████████████████▎                                   | 56/100 [06:28<05:04,  6.92s/it]\n",
      " 57%|██████████████████████████████████████████████▏                                  | 57/100 [06:35<04:57,  6.91s/it]\n",
      " 58%|██████████████████████████████████████████████▉                                  | 58/100 [06:41<04:50,  6.91s/it]\n",
      " 59%|███████████████████████████████████████████████▊                                 | 59/100 [06:48<04:43,  6.91s/it]\n",
      " 60%|████████████████████████████████████████████████▌                                | 60/100 [06:55<04:36,  6.92s/it]\n",
      " 61%|█████████████████████████████████████████████████▍                               | 61/100 [07:02<04:29,  6.91s/it]\n",
      " 62%|██████████████████████████████████████████████████▏                              | 62/100 [07:09<04:23,  6.93s/it]\n",
      " 63%|███████████████████████████████████████████████████                              | 63/100 [07:16<04:16,  6.94s/it]\n",
      " 64%|███████████████████████████████████████████████████▊                             | 64/100 [07:23<04:09,  6.93s/it]\n",
      " 65%|████████████████████████████████████████████████████▋                            | 65/100 [07:30<04:02,  6.93s/it]\n",
      " 66%|█████████████████████████████████████████████████████▍                           | 66/100 [07:37<03:54,  6.91s/it]\n",
      " 67%|██████████████████████████████████████████████████████▎                          | 67/100 [07:44<03:47,  6.90s/it]\n",
      " 68%|███████████████████████████████████████████████████████                          | 68/100 [07:51<03:40,  6.90s/it]\n",
      " 69%|███████████████████████████████████████████████████████▉                         | 69/100 [07:58<03:33,  6.90s/it]\n",
      " 70%|████████████████████████████████████████████████████████▋                        | 70/100 [08:04<03:27,  6.91s/it]\n",
      " 71%|█████████████████████████████████████████████████████████▌                       | 71/100 [08:11<03:20,  6.91s/it]\n",
      " 72%|██████████████████████████████████████████████████████████▎                      | 72/100 [08:18<03:14,  6.96s/it]\n",
      " 73%|███████████████████████████████████████████████████████████▏                     | 73/100 [08:25<03:07,  6.94s/it]\n",
      " 74%|███████████████████████████████████████████████████████████▉                     | 74/100 [08:32<03:00,  6.94s/it]\n",
      " 75%|████████████████████████████████████████████████████████████▊                    | 75/100 [08:39<02:53,  6.93s/it]\n",
      " 76%|█████████████████████████████████████████████████████████████▌                   | 76/100 [08:46<02:46,  6.92s/it]\n",
      " 77%|██████████████████████████████████████████████████████████████▎                  | 77/100 [08:53<02:39,  6.92s/it]\n",
      " 78%|███████████████████████████████████████████████████████████████▏                 | 78/100 [09:00<02:32,  6.95s/it]\n",
      " 79%|███████████████████████████████████████████████████████████████▉                 | 79/100 [09:07<02:25,  6.93s/it]\n",
      " 80%|████████████████████████████████████████████████████████████████▊                | 80/100 [09:14<02:18,  6.92s/it]\n",
      " 81%|█████████████████████████████████████████████████████████████████▌               | 81/100 [09:21<02:12,  6.96s/it]\n",
      " 82%|██████████████████████████████████████████████████████████████████▍              | 82/100 [09:28<02:05,  6.97s/it]\n",
      " 83%|███████████████████████████████████████████████████████████████████▏             | 83/100 [09:35<01:58,  6.96s/it]\n",
      " 84%|████████████████████████████████████████████████████████████████████             | 84/100 [09:42<01:51,  6.94s/it]\n",
      " 85%|████████████████████████████████████████████████████████████████████▊            | 85/100 [09:49<01:44,  6.94s/it]\n",
      " 86%|█████████████████████████████████████████████████████████████████████▋           | 86/100 [09:56<01:37,  6.94s/it]\n",
      " 87%|██████████████████████████████████████████████████████████████████████▍          | 87/100 [10:02<01:30,  6.93s/it]\n",
      " 88%|███████████████████████████████████████████████████████████████████████▎         | 88/100 [10:09<01:23,  6.93s/it]\n",
      " 89%|████████████████████████████████████████████████████████████████████████         | 89/100 [10:16<01:16,  6.93s/it]\n",
      " 90%|████████████████████████████████████████████████████████████████████████▉        | 90/100 [10:23<01:09,  6.92s/it]\n",
      " 91%|█████████████████████████████████████████████████████████████████████████▋       | 91/100 [10:30<01:02,  6.96s/it]\n",
      " 92%|██████████████████████████████████████████████████████████████████████████▌      | 92/100 [10:37<00:55,  6.95s/it]\n",
      " 93%|███████████████████████████████████████████████████████████████████████████▎     | 93/100 [10:44<00:48,  6.95s/it]\n",
      " 94%|████████████████████████████████████████████████████████████████████████████▏    | 94/100 [10:51<00:41,  6.93s/it]\n",
      " 95%|████████████████████████████████████████████████████████████████████████████▉    | 95/100 [10:58<00:34,  6.94s/it]\n",
      " 96%|█████████████████████████████████████████████████████████████████████████████▊   | 96/100 [11:05<00:27,  6.92s/it]\n",
      " 97%|██████████████████████████████████████████████████████████████████████████████▌  | 97/100 [11:12<00:20,  6.92s/it]\n",
      " 98%|███████████████████████████████████████████████████████████████████████████████▍ | 98/100 [11:19<00:13,  6.91s/it]\n",
      " 99%|████████████████████████████████████████████████████████████████████████████████▏| 99/100 [11:26<00:06,  6.91s/it]\n",
      "100%|████████████████████████████████████████████████████████████████████████████████| 100/100 [11:33<00:00,  6.93s/it]\n"
     ]
    }
   ],
   "source": [
    "x = np.random.rand(G1.shape[0])\n",
    "n = 100\n",
    "x,l, res = power_method(L, x, n)"
   ]
  },
  {
   "cell_type": "code",
   "execution_count": 90,
   "metadata": {},
   "outputs": [
    {
     "data": {
      "image/png": "[encoded data removed]",
      "text/plain": [
       "<Figure size 648x432 with 1 Axes>"
      ]
     },
     "metadata": {
      "needs_background": "light"
     },
     "output_type": "display_data"
    }
   ],
   "source": [
    "from matplotlib import pyplot as plt\n",
    "%matplotlib inline\n",
    "\n",
    "\n",
    "    \n",
    "plt.figure(figsize=(9, 6))\n",
    "\n",
    "\n",
    "plt.semilogx(res)\n",
    "\n",
    "plt.ylabel(r\"$norm$\", fontsize=24)\n",
    "plt.xlabel(r\"iterations, $i$\", fontsize=24)\n",
    "\n",
    "\n",
    "plt.grid(True)\n",
    "plt.xticks(fontsize=18)\n",
    "_ = plt.yticks(fontsize=18)"
   ]
  },
  {
   "cell_type": "code",
   "execution_count": 23,
   "metadata": {},
   "outputs": [
    {
     "name": "stdout",
     "output_type": "stream",
     "text": [
      "(1766547, 1766547) (1766547,)\n",
      "[[883273 884936 884937 884939 884941 884942 884943 884946 884950 884954]]\n",
      "[[1391413  101227  563408  720105  108524  293002  732480  633904  334688\n",
      "   335649]]\n",
      "[['Scott Shenker' 'Andrew Zisserman' 'Hari Balakrishnan' 'Jiawei Han'\n",
      "  'Anil K. Jain' 'Cordelia Schmid' 'Jitendra Malik' 'Ion Stoica'\n",
      "  'David E. Culler' 'David G. Lowe']] [[[101875.90000002 100775.15000001  99665.90000001  99202.65000001\n",
      "    96793.75000002  87547.45        86409.3         83315.3\n",
      "    81398.55        79627.15      ]]]\n"
     ]
    }
   ],
   "source": [
    "d = 0.85\n",
    "ones= scipy.sparse.csr_matrix(G.shape)\n",
    "Ad = G.multiply(d)+ones.multiply((1-d)/G.shape[0])\n",
    "G = Ad\n",
    "print(G.shape, authors.shape)\n",
    "print(np.argsort(G.sum(axis=0))[:, :10])\n",
    "\n",
    "print (np.argsort(G.sum(axis=0))[0, ::-1][:,:10])\n",
    "for i in np.argsort(G.sum(axis=0))[0, ::-1][:,:10]:\n",
    "    print(authors[i], G.sum(axis=0)[::-1][:,i])"
   ]
  },
  {
   "cell_type": "code",
   "execution_count": 87,
   "metadata": {},
   "outputs": [
    {
     "name": "stdout",
     "output_type": "stream",
     "text": [
      "(1766547, 1766547) (1766547,)\n",
      "[[883273 884936 884937 884939 884941 884942 884943 884946 884950 884954]]\n",
      "[[ 563408  108524  621989  621075  335649 1611634  254277 1516121 1278952\n",
      "   338439]]\n",
      "[['Hari Balakrishnan' 'Anil K. Jain' 'Ian T. Foster' 'Ian F. Akyildiz'\n",
      "  'David G. Lowe' 'Vladimir Vapnik' 'Chih-Jen Lin' 'Takeo Kanade'\n",
      "  'Rakesh Agrawal' 'David L. Donoho']] [[[1. 1. 1. 1. 1. 1. 1. 1. 1. 1.]]]\n"
     ]
    }
   ],
   "source": [
    "d = 0.85\n",
    "# ones= scipy.sparse.csr_matrix(G.shape)\n",
    "# Ad = G.multiply(d)+ones.multiply((1-d)/G.shape[0])\n",
    "G1 = pagerank_matrix(G)\n",
    "print(G1.shape, authors.shape)\n",
    "print(np.argsort(G1.sum(axis=0))[:, :10])\n",
    "\n",
    "print (np.argsort(G1.sum(axis=0))[0, ::-1][:,:10])\n",
    "for i in np.argsort(G1.sum(axis=0))[0, ::-1][:,:10]:\n",
    "    print(authors[i], G1.sum(axis=0)[::-1][:,i])"
   ]
  },
  {
   "cell_type": "code",
   "execution_count": null,
   "metadata": {},
   "outputs": [],
   "source": []
  }
 ],
 "metadata": {
  "kernelspec": {
   "display_name": "Python 3",
   "language": "python",
   "name": "python3"
  },
  "language_info": {
   "codemirror_mode": {
    "name": "ipython",
    "version": 3
   },
   "file_extension": ".py",
   "mimetype": "text/x-python",
   "name": "python",
   "nbconvert_exporter": "python",
   "pygments_lexer": "ipython3",
   "version": "3.6.8"
  },
  "toc": {
   "base_numbering": 1,
   "nav_menu": {},
   "number_sections": true,
   "sideBar": true,
   "skip_h1_title": false,
   "title_cell": "Table of Contents",
   "title_sidebar": "Contents",
   "toc_cell": false,
   "toc_position": {},
   "toc_section_display": true,
   "toc_window_display": false
  }
 },
 "nbformat": 4,
 "nbformat_minor": 2
}
